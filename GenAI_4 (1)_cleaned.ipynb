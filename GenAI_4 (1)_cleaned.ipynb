{
  "nbformat": 4,
  "nbformat_minor": 0,
  "metadata": {
    "colab": {
      "provenance": []
    },
    "kernelspec": {
      "name": "python3",
      "display_name": "Python 3"
    },
    "language_info": {
      "name": "python"
    }
  },
  "cells": [
    {
      "cell_type": "code",
      "execution_count": null,
      "metadata": {
        "id": "aRAod31ba41O"
      },
      "outputs": [],
      "source": [
        "import torch\n",
        "from transformers import pipeline"
      ]
    },
    {
      "cell_type": "code",
      "source": [
        "# Load a pre-trained question-answering model\n",
        "qa_pipeline = pipeline(\"question-answering\", model=\"distilbert-base-cased-distilled-squad\")"
      ],
      "metadata": {
        "id": "4OFj2E88bjJc",
        "colab": {
          "base_uri": "https://localhost:8080/",
          "height": 318,
          "referenced_widgets": [
            "6568f41a51864f809296edacc4c478f0",
            "c906a240cba9459cb575d4db7d0a0887",
            "b5c390e140d74e05981da0d3dae7a89d",
            "623e982c914c456e98f37b982ca30e85",
            "2b7faaf3a7824ccea0851f79801a5b40",
            "2cfcce35670d4737b4d57f6548a3269c",
            "ce2c7853c98a4f8da81066add32c07f0",
            "25b3f0378a9142de8022a8d7d5c67a58",
            "e4a35b0d6d3445a799e5f2b56777ee77",
            "4d762818d5bb4cb6a7b871f14813c4e5",
            "a40d8d99ba2a4ce5806153af48826488",
            "4e93628cf6b043e3a341cd0dda2dbddb",
            "95e87497313d4836a0d98d8fefe05309",
            "72eca286153f468d897e6e5f04ab5ab3",
            "2bb264e7b148448da66d85dc0bc527f5",
            "ca69dfe01f234d73a56b1f3631716f52",
            "c4a6f8334fa444d09a30aff76492a69c",
            "acc0ff7c61c5488e8cefc73e5e398e76",
            "0ebc6cb653bf4308aeb19bb50583dff7",
            "b630de88ac9c4254bde3c20c9f9f448c",
            "921b17f5875e438795a54ebdfca44037",
            "2b95dd781e2c49e0a0f89afd48e1df45",
            "25ca7a789e7c4be38cc50871e44bced5",
            "c886d01b05374b5e97606a78f1c5e5c1",
            "dc79f3ea701544278243459f7308bda5",
            "f61a448ad3ab449cacedec9f42d1f719",
            "6f0a3b50d44f4322a8a8c1408c8b6840",
            "7531272840b74ef1a05405cbe87efb7b",
            "3ed6dcba323648b9a7a836786e8f737a",
            "d4dd0ff6fc734785a426081b364f345d",
            "25e8fd4a2abb4600b53228012fbc1b00",
            "96277838bda54fe8af358a4ac7118089",
            "3c44e654b4e5455690e5612731342cba",
            "072118155bcf49da8aa401a5ee27b286",
            "46bb58214c2a42e38642db3f7550d89b",
            "0433e5bb5fa14c068b3e90a767a18b59",
            "16079f1b907a46e0b160268e031e901b",
            "0da81a7f4c82401ba2eecd7a7f1075ed",
            "1752b61ffa484ad68dee33e019677d45",
            "bb40301fccaf4cada65652e935056f45",
            "dd30aac833154a719e8c863f4306e6fd",
            "7a03f9d8f864449590ad9c34f6cdf53e",
            "1022e921e9e448328c2db9147c3c97a5",
            "ae5b317cbd9f46c69383364b2c639aa6",
            "4f51ca25674a46629964e804e101552f",
            "db111bd670ac42308b3d0c449c575443",
            "dbfeb3bb745a4bc59ec229a036ed9a20",
            "9dcf8365dc7c49ce81b1380737a10f3a",
            "84d828bdb7f148d98d4ab10bdc2a8b55",
            "d1dbc6fc06864123b57157778313389f",
            "bde1e736812142da88c6083f9a33a4e7",
            "a6ba61cace8c4e4cb08650b274625866",
            "9ef9aa0385f84577a265b532566eb453",
            "fd256bb9d0a2405193d255b4b5e020df",
            "696a6dc9ffe2494b9d69389b62824a96"
          ]
        },
        "outputId": "2ff1618d-71c2-488b-c331-ce2180b86dcf"
      },
      "execution_count": null,
      "outputs": [
        {
          "output_type": "stream",
          "name": "stderr",
          "text": [
            "/usr/local/lib/python3.11/dist-packages/huggingface_hub/utils/_auth.py:94: UserWarning: \n",
            "The secret `HF_TOKEN` does not exist in your Colab secrets.\n",
            "To authenticate with the Hugging Face Hub, create a token in your settings tab (https://huggingface.co/settings/tokens), set it as secret in your Google Colab and restart your session.\n",
            "You will be able to reuse this secret in all of your notebooks.\n",
            "Please note that authentication is recommended but still optional to access public models or datasets.\n",
            "  warnings.warn(\n"
          ]
        },
        {
          "output_type": "display_data",
          "data": {
            "text/plain": [
              "config.json:   0%|          | 0.00/473 [00:00<?, ?B/s]"
            ],
            "application/vnd.jupyter.widget-view+json": {
              "version_major": 2,
              "version_minor": 0,
              "model_id": "6568f41a51864f809296edacc4c478f0"
            }
          },
          "metadata": {}
        },
        {
          "output_type": "display_data",
          "data": {
            "text/plain": [
              "model.safetensors:   0%|          | 0.00/261M [00:00<?, ?B/s]"
            ],
            "application/vnd.jupyter.widget-view+json": {
              "version_major": 2,
              "version_minor": 0,
              "model_id": "4e93628cf6b043e3a341cd0dda2dbddb"
            }
          },
          "metadata": {}
        },
        {
          "output_type": "display_data",
          "data": {
            "text/plain": [
              "tokenizer_config.json:   0%|          | 0.00/49.0 [00:00<?, ?B/s]"
            ],
            "application/vnd.jupyter.widget-view+json": {
              "version_major": 2,
              "version_minor": 0,
              "model_id": "25ca7a789e7c4be38cc50871e44bced5"
            }
          },
          "metadata": {}
        },
        {
          "output_type": "display_data",
          "data": {
            "text/plain": [
              "vocab.txt:   0%|          | 0.00/213k [00:00<?, ?B/s]"
            ],
            "application/vnd.jupyter.widget-view+json": {
              "version_major": 2,
              "version_minor": 0,
              "model_id": "072118155bcf49da8aa401a5ee27b286"
            }
          },
          "metadata": {}
        },
        {
          "output_type": "display_data",
          "data": {
            "text/plain": [
              "tokenizer.json:   0%|          | 0.00/436k [00:00<?, ?B/s]"
            ],
            "application/vnd.jupyter.widget-view+json": {
              "version_major": 2,
              "version_minor": 0,
              "model_id": "4f51ca25674a46629964e804e101552f"
            }
          },
          "metadata": {}
        },
        {
          "output_type": "stream",
          "name": "stderr",
          "text": [
            "Device set to use cpu\n"
          ]
        }
      ]
    },
    {
      "cell_type": "code",
      "source": [
        "def chatbot():\n",
        "    print(\"Simple QA Chatbot (Type 'exit' to stop)\")\n",
        "    context = input(\"Provide some context:\\n\")  # User provides background info\n",
        "\n",
        "    while True:\n",
        "        question = input(\"\\nAsk a question: \")\n",
        "        if question.lower() == \"exit\":\n",
        "            print(\"Goodbye!\")\n",
        "            break\n",
        "\n",
        "        # Get the answer from the model\n",
        "        answer = qa_pipeline(question=question, context=context)\n",
        "        print(f\"Answer: {answer['answer']}\")"
      ],
      "metadata": {
        "id": "6r5a1PZ5bjLu"
      },
      "execution_count": null,
      "outputs": []
    },
    {
      "cell_type": "code",
      "source": [
        "# Run the chatbot\n",
        "chatbot()"
      ],
      "metadata": {
        "id": "-rvbtxrmbjOZ",
        "colab": {
          "base_uri": "https://localhost:8080/"
        },
        "outputId": "b949735a-1ce0-47c3-bb77-c4b14ada2a15"
      },
      "execution_count": null,
      "outputs": [
        {
          "output_type": "stream",
          "name": "stdout",
          "text": [
            "Simple QA Chatbot (Type 'exit' to stop)\n",
            "Provide some context:\n",
            "Machine learning is a branch of artificial intelligence (AI) that focuses on developing algorithms that allow computers to learn from data and make predictions. It includes techniques like supervised learning, where labeled data is used to train models, and unsupervised learning, which finds patterns in unlabeled data. Popular ML algorithms include decision trees, support vector machines, and neural networks. Frameworks like TensorFlow and PyTorch are commonly used for building and training ML models\n",
            "\n",
            "Ask a question: What is machine learning?\n",
            "Answer: a branch of artificial intelligence\n",
            "\n",
            "Ask a question: What are the types of machine learning?\n",
            "Answer: unsupervised learning\n",
            "\n",
            "Ask a question: Name some popular ML algorithms.\n",
            "Answer: decision trees, support vector machines, and neural networks\n",
            "\n",
            "Ask a question: exit\n",
            "Goodbye!\n"
          ]
        }
      ]
    },
    {
      "cell_type": "code",
      "source": [],
      "metadata": {
        "id": "fLaitA1CbjSA"
      },
      "execution_count": null,
      "outputs": []
    },
    {
      "cell_type": "code",
      "source": [],
      "metadata": {
        "id": "ie-6Zg7TbjVK"
      },
      "execution_count": null,
      "outputs": []
    },
    {
      "cell_type": "code",
      "source": [],
      "metadata": {
        "id": "TAXgQAn4bjYr"
      },
      "execution_count": null,
      "outputs": []
    }
  ]
}