{
  "nbformat": 4,
  "nbformat_minor": 0,
  "metadata": {
    "colab": {
      "provenance": [],
      "gpuType": "T4"
    },
    "kernelspec": {
      "name": "python3",
      "display_name": "Python 3"
    },
    "language_info": {
      "name": "python"
    },
    "accelerator": "GPU"
  },
  "cells": [
    {
      "cell_type": "code",
      "execution_count": null,
      "metadata": {
        "id": "tqk5YJd0XGeq"
      },
      "outputs": [],
      "source": [
        "# Develop a text-to-speech model using Tacotron or WaveNet."
      ]
    },
    {
      "cell_type": "code",
      "source": [
        "%%bash\n",
        "pip install numpy scipy librosa unidecode inflect librosa\n",
        "apt-get update\n",
        "apt-get install -y libsndfile1"
      ],
      "metadata": {
        "colab": {
          "base_uri": "https://localhost:8080/"
        },
        "id": "uP6ByPxibOXB",
        "outputId": "823e4910-0dd8-44aa-af0b-7acdafb6d078"
      },
      "execution_count": null,
      "outputs": [
        {
          "output_type": "stream",
          "name": "stdout",
          "text": [
            "Requirement already satisfied: numpy in /usr/local/lib/python3.11/dist-packages (1.26.4)\n",
            "Requirement already satisfied: scipy in /usr/local/lib/python3.11/dist-packages (1.13.1)\n",
            "Requirement already satisfied: librosa in /usr/local/lib/python3.11/dist-packages (0.10.2.post1)\n",
            "Collecting unidecode\n",
            "  Downloading Unidecode-1.3.8-py3-none-any.whl.metadata (13 kB)\n",
            "Requirement already satisfied: inflect in /usr/local/lib/python3.11/dist-packages (7.5.0)\n",
            "Requirement already satisfied: audioread>=2.1.9 in /usr/local/lib/python3.11/dist-packages (from librosa) (3.0.1)\n",
            "Requirement already satisfied: scikit-learn>=0.20.0 in /usr/local/lib/python3.11/dist-packages (from librosa) (1.6.1)\n",
            "Requirement already satisfied: joblib>=0.14 in /usr/local/lib/python3.11/dist-packages (from librosa) (1.4.2)\n",
            "Requirement already satisfied: decorator>=4.3.0 in /usr/local/lib/python3.11/dist-packages (from librosa) (4.4.2)\n",
            "Requirement already satisfied: numba>=0.51.0 in /usr/local/lib/python3.11/dist-packages (from librosa) (0.61.0)\n",
            "Requirement already satisfied: soundfile>=0.12.1 in /usr/local/lib/python3.11/dist-packages (from librosa) (0.13.1)\n",
            "Requirement already satisfied: pooch>=1.1 in /usr/local/lib/python3.11/dist-packages (from librosa) (1.8.2)\n",
            "Requirement already satisfied: soxr>=0.3.2 in /usr/local/lib/python3.11/dist-packages (from librosa) (0.5.0.post1)\n",
            "Requirement already satisfied: typing-extensions>=4.1.1 in /usr/local/lib/python3.11/dist-packages (from librosa) (4.12.2)\n",
            "Requirement already satisfied: lazy-loader>=0.1 in /usr/local/lib/python3.11/dist-packages (from librosa) (0.4)\n",
            "Requirement already satisfied: msgpack>=1.0 in /usr/local/lib/python3.11/dist-packages (from librosa) (1.1.0)\n",
            "Requirement already satisfied: more_itertools>=8.5.0 in /usr/local/lib/python3.11/dist-packages (from inflect) (10.6.0)\n",
            "Requirement already satisfied: typeguard>=4.0.1 in /usr/local/lib/python3.11/dist-packages (from inflect) (4.4.1)\n",
            "Requirement already satisfied: packaging in /usr/local/lib/python3.11/dist-packages (from lazy-loader>=0.1->librosa) (24.2)\n",
            "Requirement already satisfied: llvmlite<0.45,>=0.44.0dev0 in /usr/local/lib/python3.11/dist-packages (from numba>=0.51.0->librosa) (0.44.0)\n",
            "Requirement already satisfied: platformdirs>=2.5.0 in /usr/local/lib/python3.11/dist-packages (from pooch>=1.1->librosa) (4.3.6)\n",
            "Requirement already satisfied: requests>=2.19.0 in /usr/local/lib/python3.11/dist-packages (from pooch>=1.1->librosa) (2.32.3)\n",
            "Requirement already satisfied: threadpoolctl>=3.1.0 in /usr/local/lib/python3.11/dist-packages (from scikit-learn>=0.20.0->librosa) (3.5.0)\n",
            "Requirement already satisfied: cffi>=1.0 in /usr/local/lib/python3.11/dist-packages (from soundfile>=0.12.1->librosa) (1.17.1)\n",
            "Requirement already satisfied: pycparser in /usr/local/lib/python3.11/dist-packages (from cffi>=1.0->soundfile>=0.12.1->librosa) (2.22)\n",
            "Requirement already satisfied: charset-normalizer<4,>=2 in /usr/local/lib/python3.11/dist-packages (from requests>=2.19.0->pooch>=1.1->librosa) (3.4.1)\n",
            "Requirement already satisfied: idna<4,>=2.5 in /usr/local/lib/python3.11/dist-packages (from requests>=2.19.0->pooch>=1.1->librosa) (3.10)\n",
            "Requirement already satisfied: urllib3<3,>=1.21.1 in /usr/local/lib/python3.11/dist-packages (from requests>=2.19.0->pooch>=1.1->librosa) (2.3.0)\n",
            "Requirement already satisfied: certifi>=2017.4.17 in /usr/local/lib/python3.11/dist-packages (from requests>=2.19.0->pooch>=1.1->librosa) (2025.1.31)\n",
            "Downloading Unidecode-1.3.8-py3-none-any.whl (235 kB)\n",
            "   ━━━━━━━━━━━━━━━━━━━━━━━━━━━━━━━━━━━━━━━━ 235.5/235.5 kB 5.9 MB/s eta 0:00:00\n",
            "Installing collected packages: unidecode\n",
            "Successfully installed unidecode-1.3.8\n",
            "Get:1 https://cloud.r-project.org/bin/linux/ubuntu jammy-cran40/ InRelease [3,632 B]\n",
            "Get:2 https://developer.download.nvidia.com/compute/cuda/repos/ubuntu2204/x86_64  InRelease [1,581 B]\n",
            "Get:3 https://r2u.stat.illinois.edu/ubuntu jammy InRelease [6,555 B]\n",
            "Hit:4 http://archive.ubuntu.com/ubuntu jammy InRelease\n",
            "Get:5 https://developer.download.nvidia.com/compute/cuda/repos/ubuntu2204/x86_64  Packages [1,317 kB]\n",
            "Get:6 http://security.ubuntu.com/ubuntu jammy-security InRelease [129 kB]\n",
            "Get:7 http://archive.ubuntu.com/ubuntu jammy-updates InRelease [128 kB]\n",
            "Get:8 https://r2u.stat.illinois.edu/ubuntu jammy/main all Packages [8,692 kB]\n",
            "Hit:9 https://ppa.launchpadcontent.net/deadsnakes/ppa/ubuntu jammy InRelease\n",
            "Hit:10 https://ppa.launchpadcontent.net/graphics-drivers/ppa/ubuntu jammy InRelease\n",
            "Get:11 http://archive.ubuntu.com/ubuntu jammy-backports InRelease [127 kB]\n",
            "Hit:12 https://ppa.launchpadcontent.net/ubuntugis/ppa/ubuntu jammy InRelease\n",
            "Get:13 https://r2u.stat.illinois.edu/ubuntu jammy/main amd64 Packages [2,661 kB]\n",
            "Get:14 http://security.ubuntu.com/ubuntu jammy-security/main amd64 Packages [2,610 kB]\n",
            "Get:15 http://archive.ubuntu.com/ubuntu jammy-updates/main amd64 Packages [2,939 kB]\n",
            "Get:16 http://security.ubuntu.com/ubuntu jammy-security/universe amd64 Packages [1,230 kB]\n",
            "Get:17 http://archive.ubuntu.com/ubuntu jammy-updates/universe amd64 Packages [1,526 kB]\n",
            "Get:18 http://archive.ubuntu.com/ubuntu jammy-updates/restricted amd64 Packages [3,793 kB]\n",
            "Fetched 25.2 MB in 3s (8,478 kB/s)\n",
            "Reading package lists...\n",
            "Reading package lists...\n",
            "Building dependency tree...\n",
            "Reading state information...\n",
            "The following additional packages will be installed:\n",
            "  libsndfile1-dev\n",
            "The following packages will be upgraded:\n",
            "  libsndfile1 libsndfile1-dev\n",
            "2 upgraded, 0 newly installed, 0 to remove and 28 not upgraded.\n",
            "Need to get 705 kB of archives.\n",
            "After this operation, 0 B of additional disk space will be used.\n",
            "Get:1 http://archive.ubuntu.com/ubuntu jammy-updates/main amd64 libsndfile1-dev amd64 1.0.31-2ubuntu0.2 [509 kB]\n",
            "Get:2 http://archive.ubuntu.com/ubuntu jammy-updates/main amd64 libsndfile1 amd64 1.0.31-2ubuntu0.2 [196 kB]\n",
            "Fetched 705 kB in 1s (1,189 kB/s)\n",
            "(Reading database ... \r(Reading database ... 5%\r(Reading database ... 10%\r(Reading database ... 15%\r(Reading database ... 20%\r(Reading database ... 25%\r(Reading database ... 30%\r(Reading database ... 35%\r(Reading database ... 40%\r(Reading database ... 45%\r(Reading database ... 50%\r(Reading database ... 55%\r(Reading database ... 60%\r(Reading database ... 65%\r(Reading database ... 70%\r(Reading database ... 75%\r(Reading database ... 80%\r(Reading database ... 85%\r(Reading database ... 90%\r(Reading database ... 95%\r(Reading database ... 100%\r(Reading database ... 124926 files and directories currently installed.)\r\n",
            "Preparing to unpack .../libsndfile1-dev_1.0.31-2ubuntu0.2_amd64.deb ...\r\n",
            "Unpacking libsndfile1-dev:amd64 (1.0.31-2ubuntu0.2) over (1.0.31-2ubuntu0.1) ...\r\n",
            "Preparing to unpack .../libsndfile1_1.0.31-2ubuntu0.2_amd64.deb ...\r\n",
            "Unpacking libsndfile1:amd64 (1.0.31-2ubuntu0.2) over (1.0.31-2ubuntu0.1) ...\r\n",
            "Setting up libsndfile1:amd64 (1.0.31-2ubuntu0.2) ...\r\n",
            "Setting up libsndfile1-dev:amd64 (1.0.31-2ubuntu0.2) ...\r\n",
            "Processing triggers for libc-bin (2.35-0ubuntu3.8) ...\r\n",
            "/sbin/ldconfig.real: /usr/local/lib/libtbbbind_2_5.so.3 is not a symbolic link\r\n",
            "\r\n",
            "/sbin/ldconfig.real: /usr/local/lib/libtcm_debug.so.1 is not a symbolic link\r\n",
            "\r\n",
            "/sbin/ldconfig.real: /usr/local/lib/libtbbmalloc.so.2 is not a symbolic link\r\n",
            "\r\n",
            "/sbin/ldconfig.real: /usr/local/lib/libtbbbind_2_0.so.3 is not a symbolic link\r\n",
            "\r\n",
            "/sbin/ldconfig.real: /usr/local/lib/libtbbmalloc_proxy.so.2 is not a symbolic link\r\n",
            "\r\n",
            "/sbin/ldconfig.real: /usr/local/lib/libur_adapter_level_zero.so.0 is not a symbolic link\r\n",
            "\r\n",
            "/sbin/ldconfig.real: /usr/local/lib/libur_adapter_opencl.so.0 is not a symbolic link\r\n",
            "\r\n",
            "/sbin/ldconfig.real: /usr/local/lib/libtbbbind.so.3 is not a symbolic link\r\n",
            "\r\n",
            "/sbin/ldconfig.real: /usr/local/lib/libur_loader.so.0 is not a symbolic link\r\n",
            "\r\n",
            "/sbin/ldconfig.real: /usr/local/lib/libtbb.so.12 is not a symbolic link\r\n",
            "\r\n",
            "/sbin/ldconfig.real: /usr/local/lib/libtcm.so.1 is not a symbolic link\r\n",
            "\r\n",
            "/sbin/ldconfig.real: /usr/local/lib/libumf.so.0 is not a symbolic link\r\n",
            "\r\n",
            "/sbin/ldconfig.real: /usr/local/lib/libhwloc.so.15 is not a symbolic link\r\n",
            "\r\n"
          ]
        },
        {
          "output_type": "stream",
          "name": "stderr",
          "text": [
            "W: Skipping acquire of configured file 'main/source/Sources' as repository 'https://r2u.stat.illinois.edu/ubuntu jammy InRelease' does not seem to provide it (sources.list entry misspelt?)\n"
          ]
        }
      ]
    },
    {
      "cell_type": "code",
      "source": [
        "# #Load the Tacotron2 model pre-trained on LJ Speech dataset and prepare it for inference:\n",
        "import torch\n",
        "tacotron2 = torch.hub.load('NVIDIA/DeepLearningExamples:torchhub', 'nvidia_tacotron2', model_math='fp16')\n",
        "# tacotron2 = tacotron2.to('cuda')\n",
        "tacotron2.eval()\n",
        "\n",
        "\n",
        "# import torch\n",
        "\n",
        "# # Load Tacotron2 model and explicitly map it to CPU\n",
        "# tacotron2 = torch.hub.load('NVIDIA/DeepLearningExamples:torchhub',\n",
        "#                            'nvidia_tacotron2',\n",
        "#                            model_math='fp16',\n",
        "#                            map_location=torch.device('cpu'))\n",
        "\n",
        "# # Move model to CPU\n",
        "# tacotron2 = tacotron2.to('cpu')\n",
        "# tacotron2.eval()\n"
      ],
      "metadata": {
        "colab": {
          "base_uri": "https://localhost:8080/"
        },
        "id": "8ejTyAjJbOZh",
        "outputId": "2db3d92e-b5f0-4ddf-a091-3afb3d3c4928"
      },
      "execution_count": null,
      "outputs": [
        {
          "output_type": "stream",
          "name": "stderr",
          "text": [
            "Downloading: \"https://github.com/NVIDIA/DeepLearningExamples/zipball/torchhub\" to /root/.cache/torch/hub/torchhub.zip\n",
            "/root/.cache/torch/hub/NVIDIA_DeepLearningExamples_torchhub/PyTorch/Classification/ConvNets/image_classification/models/common.py:13: UserWarning: pytorch_quantization module not found, quantization will not be available\n",
            "  warnings.warn(\n",
            "/root/.cache/torch/hub/NVIDIA_DeepLearningExamples_torchhub/PyTorch/Classification/ConvNets/image_classification/models/efficientnet.py:17: UserWarning: pytorch_quantization module not found, quantization will not be available\n",
            "  warnings.warn(\n",
            "Downloading checkpoint from https://api.ngc.nvidia.com/v2/models/nvidia/tacotron2_pyt_ckpt_amp/versions/19.09.0/files/nvidia_tacotron2pyt_fp16_20190427\n",
            "/root/.cache/torch/hub/NVIDIA_DeepLearningExamples_torchhub/PyTorch/SpeechSynthesis/Tacotron2/tacotron2/entrypoints.py:99: FutureWarning: You are using `torch.load` with `weights_only=False` (the current default value), which uses the default pickle module implicitly. It is possible to construct malicious pickle data which will execute arbitrary code during unpickling (See https://github.com/pytorch/pytorch/blob/main/SECURITY.md#untrusted-models for more details). In a future release, the default value for `weights_only` will be flipped to `True`. This limits the functions that could be executed during unpickling. Arbitrary objects will no longer be allowed to be loaded via this mode unless they are explicitly allowlisted by the user via `torch.serialization.add_safe_globals`. We recommend you start setting `weights_only=True` for any use case where you don't have full control of the loaded file. Please open an issue on GitHub for any issues related to this experimental feature.\n",
            "  ckpt = torch.load(ckpt_file)\n"
          ]
        },
        {
          "output_type": "execute_result",
          "data": {
            "text/plain": [
              "Tacotron2(\n",
              "  (embedding): Embedding(148, 512)\n",
              "  (encoder): Encoder(\n",
              "    (convolutions): ModuleList(\n",
              "      (0-2): 3 x Sequential(\n",
              "        (0): ConvNorm(\n",
              "          (conv): Conv1d(512, 512, kernel_size=(5,), stride=(1,), padding=(2,))\n",
              "        )\n",
              "        (1): BatchNorm1d(512, eps=1e-05, momentum=0.1, affine=True, track_running_stats=True)\n",
              "      )\n",
              "    )\n",
              "    (lstm): LSTM(512, 256, batch_first=True, bidirectional=True)\n",
              "  )\n",
              "  (decoder): Decoder(\n",
              "    (prenet): Prenet(\n",
              "      (layers): ModuleList(\n",
              "        (0): LinearNorm(\n",
              "          (linear_layer): Linear(in_features=80, out_features=256, bias=False)\n",
              "        )\n",
              "        (1): LinearNorm(\n",
              "          (linear_layer): Linear(in_features=256, out_features=256, bias=False)\n",
              "        )\n",
              "      )\n",
              "    )\n",
              "    (attention_rnn): LSTMCell(768, 1024)\n",
              "    (attention_layer): Attention(\n",
              "      (query_layer): LinearNorm(\n",
              "        (linear_layer): Linear(in_features=1024, out_features=128, bias=False)\n",
              "      )\n",
              "      (memory_layer): LinearNorm(\n",
              "        (linear_layer): Linear(in_features=512, out_features=128, bias=False)\n",
              "      )\n",
              "      (v): LinearNorm(\n",
              "        (linear_layer): Linear(in_features=128, out_features=1, bias=False)\n",
              "      )\n",
              "      (location_layer): LocationLayer(\n",
              "        (location_conv): ConvNorm(\n",
              "          (conv): Conv1d(2, 32, kernel_size=(31,), stride=(1,), padding=(15,), bias=False)\n",
              "        )\n",
              "        (location_dense): LinearNorm(\n",
              "          (linear_layer): Linear(in_features=32, out_features=128, bias=False)\n",
              "        )\n",
              "      )\n",
              "    )\n",
              "    (decoder_rnn): LSTMCell(1536, 1024, bias=1)\n",
              "    (linear_projection): LinearNorm(\n",
              "      (linear_layer): Linear(in_features=1536, out_features=80, bias=True)\n",
              "    )\n",
              "    (gate_layer): LinearNorm(\n",
              "      (linear_layer): Linear(in_features=1536, out_features=1, bias=True)\n",
              "    )\n",
              "  )\n",
              "  (postnet): Postnet(\n",
              "    (convolutions): ModuleList(\n",
              "      (0): Sequential(\n",
              "        (0): ConvNorm(\n",
              "          (conv): Conv1d(80, 512, kernel_size=(5,), stride=(1,), padding=(2,))\n",
              "        )\n",
              "        (1): BatchNorm1d(512, eps=1e-05, momentum=0.1, affine=True, track_running_stats=True)\n",
              "      )\n",
              "      (1-3): 3 x Sequential(\n",
              "        (0): ConvNorm(\n",
              "          (conv): Conv1d(512, 512, kernel_size=(5,), stride=(1,), padding=(2,))\n",
              "        )\n",
              "        (1): BatchNorm1d(512, eps=1e-05, momentum=0.1, affine=True, track_running_stats=True)\n",
              "      )\n",
              "      (4): Sequential(\n",
              "        (0): ConvNorm(\n",
              "          (conv): Conv1d(512, 80, kernel_size=(5,), stride=(1,), padding=(2,))\n",
              "        )\n",
              "        (1): BatchNorm1d(80, eps=1e-05, momentum=0.1, affine=True, track_running_stats=True)\n",
              "      )\n",
              "    )\n",
              "  )\n",
              ")"
            ]
          },
          "metadata": {},
          "execution_count": 4
        }
      ]
    },
    {
      "cell_type": "code",
      "source": [
        "# Load pretrained WaveGlow model\n",
        "waveglow = torch.hub.load('NVIDIA/DeepLearningExamples:torchhub', 'nvidia_waveglow', model_math='fp16')\n",
        "waveglow = waveglow.remove_weightnorm(waveglow)\n",
        "waveglow = waveglow.to('cuda')\n",
        "waveglow.eval()"
      ],
      "metadata": {
        "id": "u8mGtsOAbOca",
        "colab": {
          "base_uri": "https://localhost:8080/"
        },
        "outputId": "523d9bca-5e5f-4fa0-b04d-ffeb08a9e735"
      },
      "execution_count": null,
      "outputs": [
        {
          "output_type": "stream",
          "name": "stderr",
          "text": [
            "Using cache found in /root/.cache/torch/hub/NVIDIA_DeepLearningExamples_torchhub\n",
            "Downloading checkpoint from https://api.ngc.nvidia.com/v2/models/nvidia/waveglow_ckpt_amp/versions/19.09.0/files/nvidia_waveglowpyt_fp16_20190427\n",
            "/root/.cache/torch/hub/NVIDIA_DeepLearningExamples_torchhub/PyTorch/SpeechSynthesis/Tacotron2/waveglow/entrypoints.py:96: FutureWarning: You are using `torch.load` with `weights_only=False` (the current default value), which uses the default pickle module implicitly. It is possible to construct malicious pickle data which will execute arbitrary code during unpickling (See https://github.com/pytorch/pytorch/blob/main/SECURITY.md#untrusted-models for more details). In a future release, the default value for `weights_only` will be flipped to `True`. This limits the functions that could be executed during unpickling. Arbitrary objects will no longer be allowed to be loaded via this mode unless they are explicitly allowlisted by the user via `torch.serialization.add_safe_globals`. We recommend you start setting `weights_only=True` for any use case where you don't have full control of the loaded file. Please open an issue on GitHub for any issues related to this experimental feature.\n",
            "  ckpt = torch.load(ckpt_file)\n",
            "/usr/local/lib/python3.11/dist-packages/torch/nn/utils/weight_norm.py:143: FutureWarning: `torch.nn.utils.weight_norm` is deprecated in favor of `torch.nn.utils.parametrizations.weight_norm`.\n",
            "  WeightNorm.apply(module, name, dim)\n"
          ]
        },
        {
          "output_type": "execute_result",
          "data": {
            "text/plain": [
              "WaveGlow(\n",
              "  (upsample): ConvTranspose1d(80, 80, kernel_size=(1024,), stride=(256,))\n",
              "  (WN): ModuleList(\n",
              "    (0-3): 4 x WN(\n",
              "      (in_layers): ModuleList(\n",
              "        (0): Conv1d(512, 1024, kernel_size=(3,), stride=(1,), padding=(1,))\n",
              "        (1): Conv1d(512, 1024, kernel_size=(3,), stride=(1,), padding=(2,), dilation=(2,))\n",
              "        (2): Conv1d(512, 1024, kernel_size=(3,), stride=(1,), padding=(4,), dilation=(4,))\n",
              "        (3): Conv1d(512, 1024, kernel_size=(3,), stride=(1,), padding=(8,), dilation=(8,))\n",
              "        (4): Conv1d(512, 1024, kernel_size=(3,), stride=(1,), padding=(16,), dilation=(16,))\n",
              "        (5): Conv1d(512, 1024, kernel_size=(3,), stride=(1,), padding=(32,), dilation=(32,))\n",
              "        (6): Conv1d(512, 1024, kernel_size=(3,), stride=(1,), padding=(64,), dilation=(64,))\n",
              "        (7): Conv1d(512, 1024, kernel_size=(3,), stride=(1,), padding=(128,), dilation=(128,))\n",
              "      )\n",
              "      (res_skip_layers): ModuleList(\n",
              "        (0-6): 7 x Conv1d(512, 1024, kernel_size=(1,), stride=(1,))\n",
              "        (7): Conv1d(512, 512, kernel_size=(1,), stride=(1,))\n",
              "      )\n",
              "      (cond_layers): ModuleList(\n",
              "        (0-7): 8 x Conv1d(640, 1024, kernel_size=(1,), stride=(1,))\n",
              "      )\n",
              "      (start): Conv1d(4, 512, kernel_size=(1,), stride=(1,))\n",
              "      (end): Conv1d(512, 8, kernel_size=(1,), stride=(1,))\n",
              "    )\n",
              "    (4-7): 4 x WN(\n",
              "      (in_layers): ModuleList(\n",
              "        (0): Conv1d(512, 1024, kernel_size=(3,), stride=(1,), padding=(1,))\n",
              "        (1): Conv1d(512, 1024, kernel_size=(3,), stride=(1,), padding=(2,), dilation=(2,))\n",
              "        (2): Conv1d(512, 1024, kernel_size=(3,), stride=(1,), padding=(4,), dilation=(4,))\n",
              "        (3): Conv1d(512, 1024, kernel_size=(3,), stride=(1,), padding=(8,), dilation=(8,))\n",
              "        (4): Conv1d(512, 1024, kernel_size=(3,), stride=(1,), padding=(16,), dilation=(16,))\n",
              "        (5): Conv1d(512, 1024, kernel_size=(3,), stride=(1,), padding=(32,), dilation=(32,))\n",
              "        (6): Conv1d(512, 1024, kernel_size=(3,), stride=(1,), padding=(64,), dilation=(64,))\n",
              "        (7): Conv1d(512, 1024, kernel_size=(3,), stride=(1,), padding=(128,), dilation=(128,))\n",
              "      )\n",
              "      (res_skip_layers): ModuleList(\n",
              "        (0-6): 7 x Conv1d(512, 1024, kernel_size=(1,), stride=(1,))\n",
              "        (7): Conv1d(512, 512, kernel_size=(1,), stride=(1,))\n",
              "      )\n",
              "      (cond_layers): ModuleList(\n",
              "        (0-7): 8 x Conv1d(640, 1024, kernel_size=(1,), stride=(1,))\n",
              "      )\n",
              "      (start): Conv1d(3, 512, kernel_size=(1,), stride=(1,))\n",
              "      (end): Conv1d(512, 6, kernel_size=(1,), stride=(1,))\n",
              "    )\n",
              "    (8-11): 4 x WN(\n",
              "      (in_layers): ModuleList(\n",
              "        (0): Conv1d(512, 1024, kernel_size=(3,), stride=(1,), padding=(1,))\n",
              "        (1): Conv1d(512, 1024, kernel_size=(3,), stride=(1,), padding=(2,), dilation=(2,))\n",
              "        (2): Conv1d(512, 1024, kernel_size=(3,), stride=(1,), padding=(4,), dilation=(4,))\n",
              "        (3): Conv1d(512, 1024, kernel_size=(3,), stride=(1,), padding=(8,), dilation=(8,))\n",
              "        (4): Conv1d(512, 1024, kernel_size=(3,), stride=(1,), padding=(16,), dilation=(16,))\n",
              "        (5): Conv1d(512, 1024, kernel_size=(3,), stride=(1,), padding=(32,), dilation=(32,))\n",
              "        (6): Conv1d(512, 1024, kernel_size=(3,), stride=(1,), padding=(64,), dilation=(64,))\n",
              "        (7): Conv1d(512, 1024, kernel_size=(3,), stride=(1,), padding=(128,), dilation=(128,))\n",
              "      )\n",
              "      (res_skip_layers): ModuleList(\n",
              "        (0-6): 7 x Conv1d(512, 1024, kernel_size=(1,), stride=(1,))\n",
              "        (7): Conv1d(512, 512, kernel_size=(1,), stride=(1,))\n",
              "      )\n",
              "      (cond_layers): ModuleList(\n",
              "        (0-7): 8 x Conv1d(640, 1024, kernel_size=(1,), stride=(1,))\n",
              "      )\n",
              "      (start): Conv1d(2, 512, kernel_size=(1,), stride=(1,))\n",
              "      (end): Conv1d(512, 4, kernel_size=(1,), stride=(1,))\n",
              "    )\n",
              "  )\n",
              "  (convinv): ModuleList(\n",
              "    (0-3): 4 x Invertible1x1Conv(\n",
              "      (conv): Conv1d(8, 8, kernel_size=(1,), stride=(1,), bias=False)\n",
              "    )\n",
              "    (4-7): 4 x Invertible1x1Conv(\n",
              "      (conv): Conv1d(6, 6, kernel_size=(1,), stride=(1,), bias=False)\n",
              "    )\n",
              "    (8-11): 4 x Invertible1x1Conv(\n",
              "      (conv): Conv1d(4, 4, kernel_size=(1,), stride=(1,), bias=False)\n",
              "    )\n",
              "  )\n",
              ")"
            ]
          },
          "metadata": {},
          "execution_count": 5
        }
      ]
    },
    {
      "cell_type": "code",
      "source": [
        "# Now, let's make the model say:\n",
        "text = \"Hello I am Dipali\""
      ],
      "metadata": {
        "id": "oxdz4XP0bOf5"
      },
      "execution_count": null,
      "outputs": []
    },
    {
      "cell_type": "code",
      "source": [
        "# Format the input using utility methods\n",
        "utils = torch.hub.load('NVIDIA/DeepLearningExamples:torchhub', 'nvidia_tts_utils')\n",
        "sequences, lengths = utils.prepare_input_sequence([text])"
      ],
      "metadata": {
        "id": "a6f1FnxJbXEo",
        "colab": {
          "base_uri": "https://localhost:8080/"
        },
        "outputId": "23ced0c4-3615-4c97-e3fb-a56535f7fef0"
      },
      "execution_count": null,
      "outputs": [
        {
          "output_type": "stream",
          "name": "stderr",
          "text": [
            "Using cache found in /root/.cache/torch/hub/NVIDIA_DeepLearningExamples_torchhub\n",
            "/root/.cache/torch/hub/NVIDIA_DeepLearningExamples_torchhub/PyTorch/SpeechSynthesis/Tacotron2/tacotron2/text/__init__.py:74: SyntaxWarning: \"is not\" with a literal. Did you mean \"!=\"?\n",
            "  return s in _symbol_to_id and s is not '_' and s is not '~'\n",
            "/root/.cache/torch/hub/NVIDIA_DeepLearningExamples_torchhub/PyTorch/SpeechSynthesis/Tacotron2/tacotron2/text/__init__.py:74: SyntaxWarning: \"is not\" with a literal. Did you mean \"!=\"?\n",
            "  return s in _symbol_to_id and s is not '_' and s is not '~'\n"
          ]
        }
      ]
    },
    {
      "cell_type": "code",
      "source": [
        "# # Run the chained models:\n",
        "# with torch.no_grad():\n",
        "#     mel, _, _ = tacotron2.infer(sequences, lengths)\n",
        "#     audio = waveglow.infer(mel)\n",
        "# audio_numpy = audio[0].data.cpu().numpy()\n",
        "# rate = 22050\n",
        "\n",
        "\n",
        "# ... previous code ...\n",
        "\n",
        "# Load the Tacotron2 model pre-trained on LJ Speech dataset and prepare it for inference:\n",
        "import torch\n",
        "tacotron2 = torch.hub.load('NVIDIA/DeepLearningExamples:torchhub', 'nvidia_tacotron2', model_math='fp16')\n",
        "# Move tacotron2 to GPU\n",
        "tacotron2 = tacotron2.to('cuda')\n",
        "tacotron2.eval()\n",
        "\n",
        "# ... other code loading waveglow (already on GPU) ...\n",
        "\n",
        "# Run the chained models:\n",
        "with torch.no_grad():\n",
        "    mel, _, _ = tacotron2.infer(sequences, lengths)\n",
        "    audio = waveglow.infer(mel)\n",
        "audio_numpy = audio[0].data.cpu().numpy()\n",
        "rate = 22050\n",
        "\n",
        "# ... rest of the code ..."
      ],
      "metadata": {
        "id": "sgvCcNaqbXJy",
        "colab": {
          "base_uri": "https://localhost:8080/"
        },
        "outputId": "bfad7f5b-42ef-49f6-d2b7-dec2c74d5c6d"
      },
      "execution_count": null,
      "outputs": [
        {
          "output_type": "stream",
          "name": "stderr",
          "text": [
            "Using cache found in /root/.cache/torch/hub/NVIDIA_DeepLearningExamples_torchhub\n"
          ]
        }
      ]
    },
    {
      "cell_type": "code",
      "source": [
        "from scipy.io.wavfile import write\n",
        "write(\"audio.wav\", rate, audio_numpy)"
      ],
      "metadata": {
        "id": "g0NssGADbZ9A"
      },
      "execution_count": null,
      "outputs": []
    },
    {
      "cell_type": "code",
      "source": [
        "from IPython.display import Audio\n",
        "Audio(audio_numpy, rate=rate)"
      ],
      "metadata": {
        "id": "7rY6dNwabbHK",
        "colab": {
          "base_uri": "https://localhost:8080/",
          "height": 76
        },
        "outputId": "628d463b-028e-4054-e598-8bdeccd41e94"
      },
      "execution_count": null,
      "outputs": [
        {
          "output_type": "execute_result",
          "data": {
            "text/plain": [
              "<IPython.lib.display.Audio object>"
            ],
            "text/html": [
              "\n",
              "                <audio  controls=\"controls\" >\n",
              "                    <source src=\"data:audio/wav;base64,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\" type=\"audio/wav\" />\n",
              "                    Your browser does not support the audio element.\n",
              "                </audio>\n",
              "              "
            ]
          },
          "metadata": {},
          "execution_count": 13
        }
      ]
    },
    {
      "cell_type": "code",
      "source": [],
      "metadata": {
        "id": "KoVhvvQ3baAi"
      },
      "execution_count": null,
      "outputs": []
    }
  ]
}