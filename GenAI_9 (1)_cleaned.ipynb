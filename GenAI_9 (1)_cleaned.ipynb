{
  "nbformat": 4,
  "nbformat_minor": 0,
  "metadata": {
    "colab": {
      "provenance": [],
      "gpuType": "T4"
    },
    "kernelspec": {
      "name": "python3",
      "display_name": "Python 3"
    },
    "language_info": {
      "name": "python"
    },
    "accelerator": "GPU"
  },
  "cells": [
    {
      "cell_type": "code",
      "execution_count": null,
      "metadata": {
        "id": "xa8YArJnXI-H"
      },
      "outputs": [],
      "source": [
        "# Use an AI-based tool to generate simple video animations."
      ]
    },
    {
      "cell_type": "code",
      "source": [
        "!pip install diffusers transformers accelerate torch torchvision torchaudio numpy opencv-python tqdm imageio[ffmpeg]\n",
        "!pip install safetensors"
      ],
      "metadata": {
        "colab": {
          "base_uri": "https://localhost:8080/"
        },
        "id": "lUOMUy5JGp2g",
        "outputId": "45352ab8-1358-44e4-a3be-7a8c1c22d3ca"
      },
      "execution_count": null,
      "outputs": [
        {
          "output_type": "stream",
          "name": "stdout",
          "text": [
            "Requirement already satisfied: diffusers in /usr/local/lib/python3.11/dist-packages (0.32.2)\n",
            "Requirement already satisfied: transformers in /usr/local/lib/python3.11/dist-packages (4.48.3)\n",
            "Requirement already satisfied: accelerate in /usr/local/lib/python3.11/dist-packages (1.3.0)\n",
            "Requirement already satisfied: torch in /usr/local/lib/python3.11/dist-packages (2.5.1+cu124)\n",
            "Requirement already satisfied: torchvision in /usr/local/lib/python3.11/dist-packages (0.20.1+cu124)\n",
            "Requirement already satisfied: torchaudio in /usr/local/lib/python3.11/dist-packages (2.5.1+cu124)\n",
            "Requirement already satisfied: numpy in /usr/local/lib/python3.11/dist-packages (1.26.4)\n",
            "Requirement already satisfied: opencv-python in /usr/local/lib/python3.11/dist-packages (4.11.0.86)\n",
            "Requirement already satisfied: tqdm in /usr/local/lib/python3.11/dist-packages (4.67.1)\n",
            "Requirement already satisfied: imageio[ffmpeg] in /usr/local/lib/python3.11/dist-packages (2.37.0)\n",
            "Requirement already satisfied: importlib-metadata in /usr/local/lib/python3.11/dist-packages (from diffusers) (8.6.1)\n",
            "Requirement already satisfied: filelock in /usr/local/lib/python3.11/dist-packages (from diffusers) (3.17.0)\n",
            "Requirement already satisfied: huggingface-hub>=0.23.2 in /usr/local/lib/python3.11/dist-packages (from diffusers) (0.28.1)\n",
            "Requirement already satisfied: regex!=2019.12.17 in /usr/local/lib/python3.11/dist-packages (from diffusers) (2024.11.6)\n",
            "Requirement already satisfied: requests in /usr/local/lib/python3.11/dist-packages (from diffusers) (2.32.3)\n",
            "Requirement already satisfied: safetensors>=0.3.1 in /usr/local/lib/python3.11/dist-packages (from diffusers) (0.5.2)\n",
            "Requirement already satisfied: Pillow in /usr/local/lib/python3.11/dist-packages (from diffusers) (11.1.0)\n",
            "Requirement already satisfied: packaging>=20.0 in /usr/local/lib/python3.11/dist-packages (from transformers) (24.2)\n",
            "Requirement already satisfied: pyyaml>=5.1 in /usr/local/lib/python3.11/dist-packages (from transformers) (6.0.2)\n",
            "Requirement already satisfied: tokenizers<0.22,>=0.21 in /usr/local/lib/python3.11/dist-packages (from transformers) (0.21.0)\n",
            "Requirement already satisfied: psutil in /usr/local/lib/python3.11/dist-packages (from accelerate) (5.9.5)\n",
            "Requirement already satisfied: typing-extensions>=4.8.0 in /usr/local/lib/python3.11/dist-packages (from torch) (4.12.2)\n",
            "Requirement already satisfied: networkx in /usr/local/lib/python3.11/dist-packages (from torch) (3.4.2)\n",
            "Requirement already satisfied: jinja2 in /usr/local/lib/python3.11/dist-packages (from torch) (3.1.5)\n",
            "Requirement already satisfied: fsspec in /usr/local/lib/python3.11/dist-packages (from torch) (2024.10.0)\n",
            "Requirement already satisfied: nvidia-cuda-nvrtc-cu12==12.4.127 in /usr/local/lib/python3.11/dist-packages (from torch) (12.4.127)\n",
            "Requirement already satisfied: nvidia-cuda-runtime-cu12==12.4.127 in /usr/local/lib/python3.11/dist-packages (from torch) (12.4.127)\n",
            "Requirement already satisfied: nvidia-cuda-cupti-cu12==12.4.127 in /usr/local/lib/python3.11/dist-packages (from torch) (12.4.127)\n",
            "Requirement already satisfied: nvidia-cudnn-cu12==9.1.0.70 in /usr/local/lib/python3.11/dist-packages (from torch) (9.1.0.70)\n",
            "Requirement already satisfied: nvidia-cublas-cu12==12.4.5.8 in /usr/local/lib/python3.11/dist-packages (from torch) (12.4.5.8)\n",
            "Requirement already satisfied: nvidia-cufft-cu12==11.2.1.3 in /usr/local/lib/python3.11/dist-packages (from torch) (11.2.1.3)\n",
            "Requirement already satisfied: nvidia-curand-cu12==10.3.5.147 in /usr/local/lib/python3.11/dist-packages (from torch) (10.3.5.147)\n",
            "Requirement already satisfied: nvidia-cusolver-cu12==11.6.1.9 in /usr/local/lib/python3.11/dist-packages (from torch) (11.6.1.9)\n",
            "Requirement already satisfied: nvidia-cusparse-cu12==12.3.1.170 in /usr/local/lib/python3.11/dist-packages (from torch) (12.3.1.170)\n",
            "Requirement already satisfied: nvidia-nccl-cu12==2.21.5 in /usr/local/lib/python3.11/dist-packages (from torch) (2.21.5)\n",
            "Requirement already satisfied: nvidia-nvtx-cu12==12.4.127 in /usr/local/lib/python3.11/dist-packages (from torch) (12.4.127)\n",
            "Requirement already satisfied: nvidia-nvjitlink-cu12==12.4.127 in /usr/local/lib/python3.11/dist-packages (from torch) (12.4.127)\n",
            "Requirement already satisfied: triton==3.1.0 in /usr/local/lib/python3.11/dist-packages (from torch) (3.1.0)\n",
            "Requirement already satisfied: sympy==1.13.1 in /usr/local/lib/python3.11/dist-packages (from torch) (1.13.1)\n",
            "Requirement already satisfied: mpmath<1.4,>=1.1.0 in /usr/local/lib/python3.11/dist-packages (from sympy==1.13.1->torch) (1.3.0)\n",
            "Requirement already satisfied: imageio-ffmpeg in /usr/local/lib/python3.11/dist-packages (from imageio[ffmpeg]) (0.6.0)\n",
            "Requirement already satisfied: zipp>=3.20 in /usr/local/lib/python3.11/dist-packages (from importlib-metadata->diffusers) (3.21.0)\n",
            "Requirement already satisfied: MarkupSafe>=2.0 in /usr/local/lib/python3.11/dist-packages (from jinja2->torch) (3.0.2)\n",
            "Requirement already satisfied: charset-normalizer<4,>=2 in /usr/local/lib/python3.11/dist-packages (from requests->diffusers) (3.4.1)\n",
            "Requirement already satisfied: idna<4,>=2.5 in /usr/local/lib/python3.11/dist-packages (from requests->diffusers) (3.10)\n",
            "Requirement already satisfied: urllib3<3,>=1.21.1 in /usr/local/lib/python3.11/dist-packages (from requests->diffusers) (2.3.0)\n",
            "Requirement already satisfied: certifi>=2017.4.17 in /usr/local/lib/python3.11/dist-packages (from requests->diffusers) (2025.1.31)\n",
            "Requirement already satisfied: safetensors in /usr/local/lib/python3.11/dist-packages (0.5.2)\n"
          ]
        }
      ]
    },
    {
      "cell_type": "code",
      "source": [
        "from diffusers import StableDiffusionPipeline\n",
        "import torch"
      ],
      "metadata": {
        "id": "RUKyd1cFGqHB"
      },
      "execution_count": null,
      "outputs": []
    },
    {
      "cell_type": "code",
      "source": [
        "# Load pre-trained model\n",
        "model_id = \"runwayml/stable-diffusion-v1-5\"\n",
        "pipe = StableDiffusionPipeline.from_pretrained(model_id, torch_dtype=torch.float16)\n",
        "pipe = pipe.to(\"cuda\")  # Use GPU for faster processing"
      ],
      "metadata": {
        "colab": {
          "base_uri": "https://localhost:8080/",
          "height": 561,
          "referenced_widgets": [
            "d489aaa5857c45fab9b4eaa3c79cd6af",
            "af7f45e0189242edbbecbc23cf098143",
            "4d7989eb4f0540c7b693c2d45c78362e",
            "2ef78960e80848ad9ae6594fbba4d7d7",
            "e14c6c4020fd4e56a047c5d53ad451fb",
            "9355055ec2d544c8bc435f540119b50f",
            "69c822c8b70c40b8935fe8c1535be019",
            "eca68ffa62d84ccb8f9f4d9d2b4df2d1",
            "340ad5b94212497b88e680d20dec84a2",
            "1b72a9114189468ebea7d5c5725db00b",
            "85a6c1b54f7941898f8ae518b3c409fb",
            "5b8ddb37762f4f84afe98ec5f5fbd9a4",
            "13be51aa2622447a97e8918d72e0d8d6",
            "6d9f42ae8d4f4edb878cb2e0b6e4378b",
            "33fc496e4e8148788a1cac161c5fd413",
            "186807d8ce70435ba2ff31c349dd53b9",
            "23c0f3ebb0874ef1908111ec249f051c",
            "7ab7ea3e43af41b7a97fb1e1f37dc5a2",
            "1ced82a55e5c459893c865d3ae562717",
            "40f7eafd9e51452998e060675d80293c",
            "150230a6c58d49b3a68743c3bfd6e93c",
            "78cbf8ae8bcc4544b84559111d8a2765",
            "4af87fed128a42249c4701d6d60b6d26",
            "4d644a9826ac4770b30ac5144916723c",
            "bbb19745eab8487f8584905f29a6165b",
            "02e7395221ff4055ab8b272e272075c5",
            "c9425b49e8834688bf9e0b2b05db52be",
            "58fa55929e9e4c57a5219c382612daed",
            "5c8e8134bfd849ddb1d049c1ca13aaac",
            "b6b7aa00dfe44f80a07e3eb7533f9b39",
            "d305ba251c8547c487475fdf4d6b4344",
            "338e9a38e8d54c32bd69d0e6ef62910a",
            "20e1b965d493439199c703a99591c28c",
            "b85038319d8640ec8d4a5c6c3c1f2153",
            "e6bd2c5f503640158438b4ba52656d32",
            "dec3fb84ee6541698f22b174474540b5",
            "b5f1a6f963044e93b531485f2342a087",
            "69cbe6def80a4e6997ad876911db4242",
            "0f7f57ac2bb541f3b3e0d51c0d9c33a7",
            "36f68b8e96864b30a8a5efc8af8e1406",
            "6070cc16ea5c4fccac7b0b6f05d2ffb1",
            "36ac319c874245d2b44415340baca542",
            "3fd001b0a8bc4cb2a65086a2e053c7cd",
            "902d25bc9e7f4ba88b92c28ee09236e7",
            "fe0ac3f037b946908723f4c65530234b",
            "155cdcea1fe04455a7cbbeecd8a7eab9",
            "6d7f8c47de55456280b8124f2182433f",
            "f24f39fac73346e8853b58378970b820",
            "d43bb6d2884a4798ad248664cf4b3943",
            "ec17f6a3a18b4af38ff67d712e7b0aaa",
            "55e0a0fbff3e4c5884dadfa6aa8d021f",
            "48583b7d1fde464296b41594480c99df",
            "89757dac81a74829a0656df914afbd5d",
            "71ef9faed9ce46ed93099406812dbad9",
            "ff2e91ae757c41e69d0a4e3a6b774acc",
            "d1a8444e229e4a2a987b2eb4d8181331",
            "75398c91352a42199312cb397757cd86",
            "1548a859f552434c9af279582409a579",
            "17bada164d524cc6b53b1ddd969ad11e",
            "f25ccf11de1b4f3e967e27b2e36fe18f",
            "5e18369af7fc4a29befe6434ee0359fb",
            "e717400036ae46daa6242d5533e13ca4",
            "3ddc5c99cb1d44b2a801302b6446b9d3",
            "f97469e5931c4043a7bd255f29157664",
            "69385d27978146d696f8079c1907c438",
            "52712a1c89b24c6c87be356690fdac3d",
            "a67f03863488452da79c48c0fe030ea2",
            "131332b4757e4f2b8a79554d03183df0",
            "f1a38d5f16fa41b58d51fc5b3e3bec04",
            "8c822cf887f644618b1d63d3b377ab74",
            "926b5646a01f4fecb11f51b799108ac6",
            "4e1f659851544ace8e775a16f6d6d4d1",
            "0abbb8a16ab3421ca538f7f8df51c406",
            "caa35b27a400420d93e52f0828318e20",
            "b6039bee9cc2418cb2b52243a7debd1a",
            "d38cb011e5884f41b91286281f920821",
            "065a81796fd9454cb687437ea97935b6",
            "a4fbbd8cbc4842308d1680ec2fdd77cd",
            "e5d31f02b0a74f129065defde52771fc",
            "390a79dbe0114e7bab481c159de95f46",
            "77b15de361484a769ed376d02f83985c",
            "2b6f7cb570fd45928cf07deb61175660",
            "bce0d3da1ed8467d8221f37566c94e17",
            "91b6c5ac4d2f47fc8a7f89ede99694d7",
            "1f3ed270de1c413bbcfc55983806c5be",
            "9e75a7c4791b4c9dae714fbd649e49b6",
            "1ffa15374bfa4b5ea27d1c34597b6f90",
            "5c7fc00add524934b0853ceafd46c4a5",
            "f480abf9a0e04d169b4e43105ded2a04",
            "0e1b445db4cf42c995e75d3faae40021",
            "dcf799c2fdcb4e4c9d4065358b31b3ab",
            "d10f8406ebee4c7db55c5a9b87319c88",
            "2d64d0d45cd0495b99e9f12b8848e2a2",
            "ea06693140a14b469100251359a20fb9",
            "d310fdf6e9554964b8ab7b8d02dfa7dc",
            "acc48cdcf4054f96805ee7abc22f898d",
            "058e0e7236b44bdb82516b65fa9298f5",
            "8fbb68d3dc464dc0ac5926f265f88654",
            "8b3bb82fca324c2084747ce2abf5eef5",
            "13013989e00941f19f40e3b890f62a50",
            "abdb911e7b8e46d786f4a4dff3a30e75",
            "5ba0b5ed2c9f432ba222e628c65fce9c",
            "adaaab0390734b7787982fa1f2310c60",
            "ae3f68f8b95c4664be5e27ca9608835c",
            "8932e146d33b4ea7b90e7a685f97f99b",
            "d6505ab7ab22423abd7c6d2d07276e86",
            "aa12f9b1e363422ea9328eafc1953622",
            "a72f621384484e32914c8a3ef74bb8ec",
            "92ba83a69c374a65876beb83029a700f",
            "4d565fdd313a491da49c0ee1132b9b2f",
            "f460afc12def4703a1f00fa2b5e7dd2e",
            "3d95e2f83a3f4c4396a2042a4555a717",
            "a64420b5ec4e43edabfb8674750234bc",
            "ea751e593c6e43b4ae71beb618b9c911",
            "e3a47152037d43d9a14a3d748197ccdc",
            "7d522e86514043b9a27886192c5d87ab",
            "3df31a38dca5485aa14ee4b1f2b00d9a",
            "214ddc96212948c3a92bf517132b6ee9",
            "f48914d99a804ff4ba5105b95fc9c89c",
            "e159413b8f804029ac93ef0af1d7c031",
            "35f2b2bd94014d0aa79367ff213c5b1f",
            "e32606e3f2bc4327b3a0941018adc2ca",
            "d8c1e513ffa94bf78d1984764203ad95",
            "4135a380d98242d1a67f061f75317744",
            "751dc296ff604769ad3e36f6bf7021ab",
            "46fb470e777b4bc1ad6b9371985ee426",
            "bb3659c91f7c4e9aac2980b30c67f49e",
            "f23c9379587a43a093d73c445d1f4259",
            "38773775b5f64ba781a86f64936eae3e",
            "083d9566face4795b9ec484d360e5d15",
            "815bd565a71f46a689e794b924bb8259",
            "7b9c6edaf36b4efa9aab4016d585d73a",
            "d739093ede70451a8999dba1ade66ca0",
            "6f0670190321443ca4312d0d0cebb092",
            "08f2a30de73a45b2abe85007f90a29c9",
            "106ebae32ec54700b1b889bbda86c2a3",
            "decaf317fe0049c08ee29e6b6f1a3376",
            "8963990558a541398b30199ad8780242",
            "61f785ac00ae4f5ea96baddb1af6630c",
            "264086528e774df983c1c17b7f728295",
            "d39d51cb07c240df868c4ce00d6da923",
            "1472ecd3bfa743b68622a0a80c2b7672",
            "a18e1ee689dd404086600d1ac7287d00",
            "a7b136820feb43f0bab278c86a5e735b",
            "51b21051683743738c407fe8db5e1d68",
            "144d4d268c8b4100a1187e0c367859a4",
            "54057e2cb4a042f9a6c61f9d70970448",
            "6e5de2e0dccf4555bcf10bb2cd95d5d6",
            "bc8b8cf40d5f4d20a62143e2f261785f",
            "73fa1e0a51b049e99d1fcdcae705deeb",
            "be7a1253f49b46b189a548843a662dc8",
            "173f3d6c829742e0b3c881e288cbee8e",
            "8210352ff124469e9b0b3d3b8ec9e993",
            "837158af264f49f69f854c874b3e360f",
            "3cb1490b853d4060aa82f770451d3eae",
            "34d9e33847da4d9a83c6165716778330",
            "0c8494321d5d4f529d90f52bb1423896",
            "56062ca31baa4ae9bb80bb50a70874f2",
            "62b3c1f0b60d4f819517c10d227db42c",
            "e481daf9fd7d4cfbbd9d7503364f1333",
            "3a09ce19d21341ae867f8c266012485e",
            "a9d12a44ad52492cbdc4a7cfebed87aa",
            "d4d760136c334ab68df2c940c88f7678",
            "ddafb7b3eaca4adf800b16cc00b345b7",
            "6d48509e12c44e42b10e1a5c4c2800cd",
            "ca8abfc1b3cd47aa9bc0395bdbcd3633",
            "27dcc6ec63f94d5db32b178ab32abc38",
            "89e7e9b4bf354430a40c51074ee61c58",
            "4f0f71385ee541ff9b42b888e1c465f2",
            "0e4cd327d7834ef6999590f9fe92dd56",
            "246edbf0ac73452f9273bb94652fa327",
            "f85f299157a8481fbe0f0b7913821500",
            "0036032540764927a94ebd3f4013d525",
            "bafb62ea602544c68569c391709e188c",
            "5060a5e348404e3eb628e7344bcd7649",
            "3d004ea3a2b1485a8b68bb8239b157ee",
            "05f83f63602644bb99e49b703e537475",
            "00aa865578fa4b1b804a73d6ab821b45",
            "c75be27293fe4863b6e30328d311c4d4",
            "9dd32423b5894d9189f90ad560569c04",
            "9dbdbc1581f9434f9f006779ae9ab766",
            "ef57373f405741a1ab2634665f44ef59",
            "fb2d046903d24ff5bcf80903ff3106f7",
            "74810852c33e49f68f5e86839409511f",
            "3b80d6e925684570b1b315126a4ccbd7",
            "09eb2a831244446ea4581c5b2cf7fb08",
            "9d424e911fd64d3abb0a04b7568cb92e"
          ]
        },
        "id": "Sz2iN7SqIdrL",
        "outputId": "32372fc3-237d-4ac3-dbaa-62744c7a14fc"
      },
      "execution_count": null,
      "outputs": [
        {
          "output_type": "display_data",
          "data": {
            "text/plain": [
              "model_index.json:   0%|          | 0.00/541 [00:00<?, ?B/s]"
            ],
            "application/vnd.jupyter.widget-view+json": {
              "version_major": 2,
              "version_minor": 0,
              "model_id": "d489aaa5857c45fab9b4eaa3c79cd6af"
            }
          },
          "metadata": {}
        },
        {
          "output_type": "display_data",
          "data": {
            "text/plain": [
              "Fetching 15 files:   0%|          | 0/15 [00:00<?, ?it/s]"
            ],
            "application/vnd.jupyter.widget-view+json": {
              "version_major": 2,
              "version_minor": 0,
              "model_id": "5b8ddb37762f4f84afe98ec5f5fbd9a4"
            }
          },
          "metadata": {}
        },
        {
          "output_type": "display_data",
          "data": {
            "text/plain": [
              "model.safetensors:   0%|          | 0.00/492M [00:00<?, ?B/s]"
            ],
            "application/vnd.jupyter.widget-view+json": {
              "version_major": 2,
              "version_minor": 0,
              "model_id": "4af87fed128a42249c4701d6d60b6d26"
            }
          },
          "metadata": {}
        },
        {
          "output_type": "display_data",
          "data": {
            "text/plain": [
              "text_encoder%2Fconfig.json:   0%|          | 0.00/617 [00:00<?, ?B/s]"
            ],
            "application/vnd.jupyter.widget-view+json": {
              "version_major": 2,
              "version_minor": 0,
              "model_id": "b85038319d8640ec8d4a5c6c3c1f2153"
            }
          },
          "metadata": {}
        },
        {
          "output_type": "display_data",
          "data": {
            "text/plain": [
              "safety_checker%2Fconfig.json:   0%|          | 0.00/4.72k [00:00<?, ?B/s]"
            ],
            "application/vnd.jupyter.widget-view+json": {
              "version_major": 2,
              "version_minor": 0,
              "model_id": "fe0ac3f037b946908723f4c65530234b"
            }
          },
          "metadata": {}
        },
        {
          "output_type": "display_data",
          "data": {
            "text/plain": [
              "scheduler%2Fscheduler_config.json:   0%|          | 0.00/308 [00:00<?, ?B/s]"
            ],
            "application/vnd.jupyter.widget-view+json": {
              "version_major": 2,
              "version_minor": 0,
              "model_id": "d1a8444e229e4a2a987b2eb4d8181331"
            }
          },
          "metadata": {}
        },
        {
          "output_type": "display_data",
          "data": {
            "text/plain": [
              "tokenizer%2Fmerges.txt:   0%|          | 0.00/525k [00:00<?, ?B/s]"
            ],
            "application/vnd.jupyter.widget-view+json": {
              "version_major": 2,
              "version_minor": 0,
              "model_id": "a67f03863488452da79c48c0fe030ea2"
            }
          },
          "metadata": {}
        },
        {
          "output_type": "display_data",
          "data": {
            "text/plain": [
              "(\u2026)ure_extractor%2Fpreprocessor_config.json:   0%|          | 0.00/342 [00:00<?, ?B/s]"
            ],
            "application/vnd.jupyter.widget-view+json": {
              "version_major": 2,
              "version_minor": 0,
              "model_id": "a4fbbd8cbc4842308d1680ec2fdd77cd"
            }
          },
          "metadata": {}
        },
        {
          "output_type": "display_data",
          "data": {
            "text/plain": [
              "tokenizer%2Fspecial_tokens_map.json:   0%|          | 0.00/472 [00:00<?, ?B/s]"
            ],
            "application/vnd.jupyter.widget-view+json": {
              "version_major": 2,
              "version_minor": 0,
              "model_id": "f480abf9a0e04d169b4e43105ded2a04"
            }
          },
          "metadata": {}
        },
        {
          "output_type": "display_data",
          "data": {
            "text/plain": [
              "model.safetensors:   0%|          | 0.00/1.22G [00:00<?, ?B/s]"
            ],
            "application/vnd.jupyter.widget-view+json": {
              "version_major": 2,
              "version_minor": 0,
              "model_id": "13013989e00941f19f40e3b890f62a50"
            }
          },
          "metadata": {}
        },
        {
          "output_type": "display_data",
          "data": {
            "text/plain": [
              "tokenizer%2Ftokenizer_config.json:   0%|          | 0.00/806 [00:00<?, ?B/s]"
            ],
            "application/vnd.jupyter.widget-view+json": {
              "version_major": 2,
              "version_minor": 0,
              "model_id": "f460afc12def4703a1f00fa2b5e7dd2e"
            }
          },
          "metadata": {}
        },
        {
          "output_type": "display_data",
          "data": {
            "text/plain": [
              "diffusion_pytorch_model.safetensors:   0%|          | 0.00/3.44G [00:00<?, ?B/s]"
            ],
            "application/vnd.jupyter.widget-view+json": {
              "version_major": 2,
              "version_minor": 0,
              "model_id": "e32606e3f2bc4327b3a0941018adc2ca"
            }
          },
          "metadata": {}
        },
        {
          "output_type": "display_data",
          "data": {
            "text/plain": [
              "tokenizer%2Fvocab.json:   0%|          | 0.00/1.06M [00:00<?, ?B/s]"
            ],
            "application/vnd.jupyter.widget-view+json": {
              "version_major": 2,
              "version_minor": 0,
              "model_id": "d739093ede70451a8999dba1ade66ca0"
            }
          },
          "metadata": {}
        },
        {
          "output_type": "display_data",
          "data": {
            "text/plain": [
              "unet%2Fconfig.json:   0%|          | 0.00/743 [00:00<?, ?B/s]"
            ],
            "application/vnd.jupyter.widget-view+json": {
              "version_major": 2,
              "version_minor": 0,
              "model_id": "a7b136820feb43f0bab278c86a5e735b"
            }
          },
          "metadata": {}
        },
        {
          "output_type": "display_data",
          "data": {
            "text/plain": [
              "vae%2Fconfig.json:   0%|          | 0.00/547 [00:00<?, ?B/s]"
            ],
            "application/vnd.jupyter.widget-view+json": {
              "version_major": 2,
              "version_minor": 0,
              "model_id": "3cb1490b853d4060aa82f770451d3eae"
            }
          },
          "metadata": {}
        },
        {
          "output_type": "display_data",
          "data": {
            "text/plain": [
              "diffusion_pytorch_model.safetensors:   0%|          | 0.00/335M [00:00<?, ?B/s]"
            ],
            "application/vnd.jupyter.widget-view+json": {
              "version_major": 2,
              "version_minor": 0,
              "model_id": "ca8abfc1b3cd47aa9bc0395bdbcd3633"
            }
          },
          "metadata": {}
        },
        {
          "output_type": "display_data",
          "data": {
            "text/plain": [
              "Loading pipeline components...:   0%|          | 0/7 [00:00<?, ?it/s]"
            ],
            "application/vnd.jupyter.widget-view+json": {
              "version_major": 2,
              "version_minor": 0,
              "model_id": "05f83f63602644bb99e49b703e537475"
            }
          },
          "metadata": {}
        }
      ]
    },
    {
      "cell_type": "code",
      "source": [
        "import os\n",
        "from PIL import Image"
      ],
      "metadata": {
        "id": "zP38uUovIimj"
      },
      "execution_count": null,
      "outputs": []
    },
    {
      "cell_type": "code",
      "source": [
        "# Create output folder\n",
        "os.makedirs(\"frames1\", exist_ok=True)"
      ],
      "metadata": {
        "id": "itM1ZjJOIio7"
      },
      "execution_count": null,
      "outputs": []
    },
    {
      "cell_type": "code",
      "source": [
        "# Generate multiple frames\n",
        "prompt = \"A lush forest with a hidden waterfall cascading into a crystal-clear pool, sunlight streaming through the canopy, vibrant green moss covering the rocks, and colorful wildflowers in bloom.\"\n",
        "num_frames = 50  # Number of frames"
      ],
      "metadata": {
        "id": "O3JjqQdmIirh"
      },
      "execution_count": null,
      "outputs": []
    },
    {
      "cell_type": "code",
      "source": [
        "for i in range(num_frames):\n",
        "    image = pipe(prompt).images[0]\n",
        "    image.save(f\"frames1/frame_{i:03d}.png\")  # Save frames"
      ],
      "metadata": {
        "colab": {
          "base_uri": "https://localhost:8080/",
          "height": 1000,
          "referenced_widgets": [
            "6995d2ae877f4e6abf065a4074f586ae",
            "8f68485ae6714210a2aee94d2705d69a",
            "c6e6a3789d11400eb7558fa94ecb110d",
            "0b22ee9668e44adcb6e6bbc38f3e449d",
            "3f1d42d391374d6a92ae00d7f3a5741c",
            "3635441fb7a340c6bb4c4d8d86508b2f",
            "49ec462d64e94d78903e7cc7dedf5f67",
            "b74859f389ae441fa2c88f39802ca0c9",
            "be990e310e17464887e5c3d7c461ad14",
            "f378c068cc864340b3b0f433d0e49ec8",
            "98ccd7e22b6e469482f51acfe75b28c2",
            "f91da3069a9e449484ac9ececc001498",
            "1309372841fd43699c06e19b170579df",
            "c0ca326304b0465f9c29ec7400dd21b8",
            "6c63624197db4cb7a58f763dee763d28",
            "3c6132b7e92847ceb9dd1e4c827cbe9b",
            "1dce26130f0345f4a88e72424581bcd2",
            "0102652e30904936bc8d053b667e7ee0",
            "ac9bd403ef024ceb9d9cac0809ef9d84",
            "2f45518de18b4675919553b178475ed7",
            "0160cb415ebe49618fb766931531e7a7",
            "f7cbcf9a098a4d1399b40cfcabe8ead6",
            "d2276352884348c7a5a248752634d60c",
            "4859615d7d514e86ae678c778f3ad02c",
            "d555e266bd354949a9c17d982d508e9f",
            "3694b7471f7c4c5cbe78447127dde427",
            "12deccf50d8645ac99b8d4e85f86308c",
            "435953463f5a4785a3c77f57f3e7342a",
            "37b6a0300615418da9817483916dab39",
            "c8a1973e7c814ef18ec4018a6eaba180",
            "c1ea73c7029b46ff8683ac0e129eef6c",
            "11754f0fa9f64860a6dd7de89276f079",
            "3014c1b9f06b49789ec137c5e9401c5b",
            "b5df6ccf535a48ce897dd16da9811f4b",
            "1cd3f86223ee42598bb09cd62407aa68",
            "4116d165919f44349ab1cc6f61192c73",
            "436d20e6adc94b79958bb28342df0714",
            "cec8c3b9bfd247b49fef7727a201c0f1",
            "c75fea20eebc47c08f5b4afead64e196",
            "137917b60c9b46e18f6ae65157bca4a4",
            "af78f4c97bcc4c4bb75a602f3b32dbc5",
            "79759ea3924a4a32ab92f53b2e64c5e9",
            "c2aa424ddb0d4a578b00fe2b798afd60",
            "9c4bfbe9a52f4d31b8a3c0deb5c2499f",
            "2b2a86770ded42dc980e9724e038a136",
            "dc437e6722064a5e9e4be94e2c16c52f",
            "fe1ab526de544d78971e14f802ef22aa",
            "baf894273c8e42e2aadcfd9ba4cf1b40",
            "0e22be1a57434a7b9c0a8bbc485589bb",
            "4cc4e46e4a17482da3ff489b8e950a42",
            "aaa87b81a94f4c5daaa82402867d421d",
            "b5db95b2cb344e13a9ac945eb6bea144",
            "f0c5a7775b30414dbb818a01e7d24c19",
            "1ff97be16a3e47f38c09ad9757105692",
            "02375f1209b04726a9022eddabf2e6fc",
            "53d65ce602494791b85015504b96bb33",
            "85968964471949fa953a0493575cdd82",
            "418aa8aff1d440d6a4dffbb3de5fd085",
            "657f162b9d0d4433bed9656310c611d2",
            "4c7d9d2209264ecfa8123207482b817a",
            "ac66094a4b644267897a796dc39f214b",
            "7f36eabec05949f1b7316b0639528d34",
            "49112a6810c94d3ea7e111385cb55117",
            "c12e386a9a614ba1b3223c9bb3ff939b",
            "a3a35c561ca041e3931903fba7c52b3b",
            "ba8b90808a3f4ddc828f0ddd5aabd28a",
            "17e15d6372244adaa0a3ad508097b17e",
            "393421b9f6c74ac68ce4440a4e000df4",
            "34197c2d76b2403ca05e46e9953ff955",
            "7303a0849f7847c68d8b88b0bb88c4f4",
            "3501813092cf41b394c35bf969627fe7",
            "2840405952094820b4cff02fc20cbdd2",
            "fb41744727664a20810754c4af7b0680",
            "8a8684ff0ea04916976c86b5727cc39b",
            "8f72cfb1576640f49747cc77ac5959e3",
            "1480d7c749174b92a799045f70f687be",
            "c85ec7cdf12f4799a42ceeae267e26d2",
            "d2b42fe60b0f42afbf542bfda18069aa",
            "4435fcff7b6f4c0eb20b5c9369890b74",
            "4afe071b6be24b22b1e1f424460f2d30",
            "a6db51bd58e34690b05b52701c3799f7",
            "83e3d7bbd4d943c49c322c37ba27cfc3",
            "14ac7a343b11416bb925f591cb9e44d8",
            "553bf94fc28f4c168cce0f5571c89fe2",
            "b018efa1dc86492d8735bf3b0db945ea",
            "338f07b64e634761b9829fbe84cb3db8",
            "9dc369bd0c9743bb94f0f61671169ceb",
            "1c5439001523439ba6a7f5bd1e3fc06c",
            "e509d38787f9483484f17325db388f0a",
            "b0779d3d20374f4bba3872cfd88c01a1",
            "080b2b92f095413bbc3dee05d4c3a941",
            "5ca9bb9f3c664348861d80eb1862fe9f",
            "ef68197ab08a4b0db80373dcf38744a7",
            "60ae8aaab6764e20b13f53c9f3e7454c",
            "aa6a908b7eb940e79b10a2c56121973c",
            "bd02ce7ec2304db7aab434393fab2a60",
            "ad12eea141eb4271ae00fa800c402841",
            "31edb002cea446e4939b0232e8a9e7e5",
            "6ae853aecfb443ce90472052fcfc03aa",
            "86414060cfec44ff9f6d4279715f51b0",
            "d4e4ffa71e2444b0a08cc44f091c13ab",
            "d97a9b9d359645d7a03d906070c9ccf5",
            "dc86db7b679c4c49ac230efdcef64fb7",
            "2f8b54cabd044067a2c5d8df644da2c4",
            "06a98859a13e4e8fbaf172cbaf540847",
            "67bca3b76b31478da198901aab9f5331",
            "2cde7a335aab4f4986b1216b0f79271f",
            "5fa5a52d426a4a0fb1aef785b7386c37",
            "e56baac2de2e48e7a126b8798785e8aa",
            "e4ccf7e9dd2d48ffa8a7753db559e417",
            "b00942803e784d4aa24e311472fa75a0",
            "9513ad13def04eb99919db7bac58f035",
            "6200c21abd0b48b0bdccdbb272dae494",
            "218724a74ee84d18ac085dcff0681b60",
            "d25bd7c1d78c4167b7b5c3c0dd4108ff",
            "8a710a7ec32b478dae0c35e39597d7c3",
            "4e277894ca3b43178f45b8592e1b8b8c",
            "7d9da8210e004af8b24569309b3b9bf4",
            "5a8e793503734886841bf05573c34bd0",
            "a3150c62b8244eb5aab56a248b019d5a",
            "bc5320e8269d41bca68d80a83db7781f",
            "591352babd19447093aad62482c6df64",
            "948abcd4318e4ad99c1933ecc88c9cb5",
            "4dac7666a522476eb35576c1b88d6670",
            "3012cb951db649f696e3013fa28894f6",
            "76c183a69a9d417fad81fbdbac0349b5",
            "34d24459e2b845709c31db0419a1edee",
            "42b954cf84174349831e3f135c86ae34",
            "1c9548d711c74e7d87efb90984763ce7",
            "6bcd227fb6184b3b91d7e69f78558f14",
            "db3d9337be354faa81e8a2752228452a",
            "de337ccae4cb49c29532693bdf0fbeb8",
            "1d1ab9f721294dec9d6cd936c1716ae8",
            "9dd9fd988a984de79233402b57e3d484",
            "ee7f3c34150f4547809cb3bf5495fec2",
            "c6c8bcb81b91478b80827a73b6507403",
            "78d8a7979c904e269791e2b5e2e7ed6a",
            "5211dda0ed274c5896661d65c369f305",
            "479bc8e5bfa84da7b4f3cef5d74269f4",
            "f23edbb68b3a4ecd8f5ce363f4fe396d",
            "d6b0a3635d9a4c65b0b66661d5a94204",
            "c6bbe6313c334ccf8c9a7f5064bd614f",
            "edc3355f9151477fa46681edf65fa283",
            "1e0e79b1019949efa3b79d37e45723d5",
            "9893a4800cdc4228aa333b0e07134177",
            "b7aeda11c55f45b49e33c78c9936d826",
            "fa4a4001de4a4b0f8fc24f75f87d95d5",
            "be1e2d1e143441808fc71483afa99e56",
            "3699c83d36ce4c83bbf02cf217917faa",
            "5e6fbce931af45bb8c4c09ff092021cf",
            "8c8ac610d0d64aa8b4beb2d30f94d4f6",
            "4e9fc54e25ee441b994f7d8dc4da5a4d",
            "3cd78369a7c346639606db42f7d38653",
            "86513b62ec364fb3a9a07ac68d89c631",
            "d9e6a676917d43ae946b07d78fabaa45",
            "2c2f6f593b464e57a6c97b1476d52a47",
            "688bc6fc8a724c8d9b84275b114c40f5",
            "6c7b53f22db14346b9d4a601f9066b51",
            "349fb5671052497fae3254f53623e051",
            "80be8b59e677459abc0be85e4c0f494d",
            "f4a6f006735b4a82af06b00af85d9126",
            "221eeb723bf04164a7b8a23dc2e3e323",
            "7ba083ffb8dc4a7497d9d94c40e829ff",
            "f0cea6470edb4755bf497013711759db",
            "3fa4a71de5e04fd8865478a4f1c65abc",
            "3af03dd633bf425d84e1b0338880b35c",
            "0e0878dd8585438981d342fa8fa05262",
            "b831bbaff36d4c6089018873763a3234",
            "a0e67caabe784241821e2d3745b21d8a",
            "eff66dce62494d84bbaefeae794e6f48",
            "71b77340dc75495188822926c93c895e",
            "b65c6f758204459a87539306096191ee",
            "31624523176847f0bd4a7a8002a3c7db",
            "aded2ba09c0c4753b352d5ff702d62fb",
            "e06d38b53e4940cc98287a77b92c62ef",
            "ba9920932d6c4faaacbdf9fa50e00b79",
            "ac74ff14de8848aebe27fa2b96304fde",
            "7dd80b064b284dc08ceaa29b39a18600",
            "fd172a8337cf46adb1ae4f1698bb4c38",
            "cc9df06267c745e2a247118920a2fd15",
            "e881c0e9b84741079c6f9a86fe4e1990",
            "4809776dd2bd4401b81fd8135862b266",
            "12b7deaff2fe425cb0e47bdab27abe10",
            "919d9b4111e049288a755b0c6a2835bc",
            "a40b7cd6df5644ca962cdb998e57f361",
            "b8b179b99b014aeb8f39a5b413fb7f6e",
            "ed5c677d9da64969b06cfa0bb2f66474",
            "30a720b716514818ab6e66dfb219c911",
            "a042d23ba7b443eb93dd0fce3635d958",
            "ecfe1ab5d5404dc1bb31ea0c9d1b0607",
            "98edc3e6b7154d90912cc34b0ee04a4f",
            "aad1535cab5f4f4e97e7cf3b72fc0a58",
            "1098f7eb43864aea837535111a8cab88",
            "b5005182ff3f49dd9aedc0ba1382ca8d",
            "4807f5d37f7644519c9935c5c5f58b0a",
            "c35e867bca984fb59a882f20222d174d",
            "1d39cace519442c1aed51818a6c1c0a8",
            "b5acf1148c484f08a13e7a93ba9be459",
            "3ca6daa15dc149d2a339284969a4bd8b",
            "6f737624f790474883cd8ce6c146632d",
            "38e66785c15d449084ebc380e23a1c67",
            "c028ccb0a68f40ae995382ce0b3e16fc",
            "f79622d2de9b490ea0798a9ba0ede1b7",
            "645f7b1add8c481780a725781520a43f",
            "6ba6c4f2b2d3467fb9398ffc83515954",
            "2f5ff248419a4b0eb847f116a49e22de",
            "3995c7c99de940219faf605b79da202a",
            "57f05d7682e24cce81d9a449affb8fef",
            "f46d067a2fbd413e97f7d7c046e946dc",
            "b9662ac5e66144dc906ce4306f05efc6",
            "0433df94b1664fd59a1e2820c962ca3a",
            "1e8f3ba7aebc4ac49c765647ef97bbe4",
            "942f70f54eae440fa7d17b05c4c3be36",
            "8d1cf9d26a8a476eab0e9567273dc2ad",
            "64d4d89bc4774a798951795547f3fbb6",
            "0d4d96c96f3c494d9dcacf92367f5c99",
            "3e01b4812e834b94ad0355ccafa5a07a",
            "d992fc20b2c14578b346fb680420d36b",
            "5678d3175a3142b0bbb4a149e5e5ac6e",
            "d91709cb37654624ab5fd94063e94a19",
            "df4f113b2cd743aa9fdd90a1a5746c3e",
            "ac2d6f7964724c84aab2506289fa2161",
            "c55bd43d01784ffeaf8f27e81fdae47a",
            "dc64a4bd3eef446d84f0199c507a918b",
            "3848401abe9e46d8a1676d5ba9223534",
            "ff0c605c2c50414c8fb5e0a5a7fb433d",
            "9a9579dd618a4851b5f4e0c56a3a2549",
            "f68b7bdf4cba4e57bee7200bf4455a11",
            "650e97f4a8764104abdde08156bcc993",
            "1322204a2e8242c3a40f22f6946515e6",
            "42a8399ded8941c7869ebb723141aed3",
            "6c41e99e787b4eb2b8bd099a1ae09c1a",
            "7de5945daec44b8aa47ab371e09c832d",
            "018710cc88cf47a7a3fa71152901ca0e",
            "ae5a601dfaf94e3fa51dcb3d2944e88f",
            "bc6f81f4a9d942cda6146d2980442dc7",
            "2fb62cefc30f4142905aa9969f359cec",
            "b8d73f0c601f4adeaa90c615e4126a5d",
            "fa8cf8ffc448479ab1b26e6aef8c9b52",
            "e221b99f16b447d4982e7c8debace142",
            "277183f900ac4e53a499ea3abb353b29",
            "9af85fe81a154306bd88c3d53a44d961",
            "a2e99ac698124e159878cd45b86d98c9",
            "277c8f8d771e45dcbb46523d6a053fd5",
            "e49f0737ed1d4cc3b80c5875eb85f1dd",
            "111f9ba0c31b49909362673b2919b71d",
            "ca75400007a24531bf01548faec3c226",
            "bb08f0371c8d45e19f36c59e87c0763e",
            "b90715bd8e7b433489a1d3139b2c2204",
            "9213bba3a266416cb11191134705fc67",
            "b2cff7f82cc54f5d89099b33db41da6b",
            "2ce9f1269ab44a5099b8f01ec8d8ed00",
            "df7f7d657d2e4afc82030363c4881c0b",
            "bdd67a87049d44d6babe7d42d722537b",
            "33c5d2ad95b34f71ab88a9cd3736150d",
            "0d955ccca714437eb656e93a7e4db47c",
            "c51e577eb2ef4ce284d4219cdd8f8964",
            "9300d013c6f1484c840b5db409d3d33b",
            "c68742a3bbdd4684932cc3fcd7e22df5",
            "0437937d2f0d4089afec048b27deef3d",
            "7ab9020b430344e39c80a3c4c9a18450",
            "f42cad5149b847d6a9265c70c1089f91",
            "86f610416f514fdabda4285a2a53e2d0",
            "edfffa7ac0434d09847743709a4a8745",
            "8cbf743faeb149ec86a2a50c383ef1a8",
            "c3607a7306e04175a7ca6d6cc3c527b2",
            "1b902fbffb8c4af983d19c24ffd1dac4",
            "0f7c87747b884a45b2af6f8d92c4873e",
            "f806b793eb1b4ff3a941f5165219006e",
            "a52e05b33511449b9fdd0232fc7879bf",
            "2b95938783cb4a68b1aa359056ea2a8e",
            "66a67148562c42ef9e1ea79c93ec06f3",
            "d09e40c47bbd417bbb6656c2db2d37a1",
            "2f89cb18e5c847b3beb4d29e79da0ae9",
            "4864d98c61e642ca879b517849b961d6",
            "d50f737092e94e4cbd86dccd13e7c45c",
            "96307d9a76614301a27108c99f51f092",
            "7964d5ee4a024b0ca65c4bc185d4107c",
            "a91ad69617e849709565bf9ae2115042",
            "95d4a2f607424077b69e221318acab4a",
            "e3168eb7090c4fce94ccad2da27e7e07",
            "b84251303075477aba17112b53350127",
            "012651a401394d1684ced463c07bae6d",
            "55a844a32cc84526b66741f3435b74bf",
            "5bdfefc256f84a3d94ecf0214a0515ce",
            "894612c1f4cf494a9f90198da41c4687",
            "a7276277b3394f248c5916c0100b150b",
            "3aa8d13f8de04c3db827dcb597e4c87e",
            "5ded7036ebf249d2afff5628fc1c3e09",
            "162511c42a19483883106392054c3229",
            "8a5b33ff8b83457b8f857f390cbc4447",
            "d06872d0777d41d189a823c4ea4c899d",
            "ae916312ec5b4043bb7804564c1464a4",
            "ec69dd6f44f649d68369ac9287470214",
            "98fc8bb5bed14453a6d62b746851242c",
            "39b2354dc6c3496db7ba2ad719f98bf9",
            "4d19471e3aae4faf82ac6f09f96293ac",
            "850168e3852b4f4e8b58f19eb58808fa",
            "026572b6a6294669b3b4dbc5c5de8f6f",
            "7b19258d50e54daca3a2923f3420fc9a",
            "c4b8758925d746fa9dd9c29f98a1d156",
            "893aa35422254aa39df6e4dd704dc91a",
            "708dbd0099e7439fbcead4a44d04cdd4",
            "4d53159860a04b09b21352f435394a20",
            "62feff2e2b304128837fa8d12f56ff8e",
            "3872c285fcc3477b916e353d32fc8506",
            "09a230b2e1ac473ab064f50698396a09",
            "f954914c1eb246e4a04aadadff1a6d90",
            "ea8e6ec5ad86460f8d88f8a854e839f6",
            "e629debf3a034785975833ccb55965fb",
            "b428bcf0988e49d5ada8fd7be6dc7593",
            "d8293844be4f4e22bb2590fd7c128370",
            "3c4b9ba1dbe84d72be49f1cd518d35b7",
            "3d3116b3292f43e19d373783bd332d88",
            "14dfb011c15b43318640e932b7e05b98",
            "b7ed934a39f849258967816d3e9bc485",
            "6748fc1ee2b347ddb48ee89f701f698b",
            "1172db9533a644a98226efffe19a558c",
            "adb8130734134a79a1247ab209cb6e1b",
            "07b69593169c48338c6dec5f1e637f2e",
            "5147ba35b2b34204ac1d6be887123d32",
            "a74dee26712748338043a808280d6a80",
            "ab01f14dd4d346a697ab1d738eb602d8",
            "44809df9c5fd4cc9bdfc47a500d40acf",
            "35a199c7f7eb4cb6a8cd0d85aa0f1fde",
            "e91d20864f054b59adbbc3f4ade3dc9e",
            "56e2195cdef049cf9ea4c47140cef170",
            "bc336e2174f14576b80aa6d6c538e89b",
            "97e9d8c70ba1422894a22a9eed53a5b3",
            "5f4fb3ea1f094bc8878939d1a3813eca",
            "54bcb7c79cde4fdeb8db79f24b5de90a",
            "03752c418cff4df8b62ec1b52233548a",
            "41611bc7dfd24ae69958591d82936cfa",
            "7b024f9d1ed449619449e9547bc45a88",
            "aa24562449484559998c0cc606c5eaa9",
            "27a02595da674f91b9f7ebeb74b9e08f",
            "0f82fe4b93154ee0b45fa097b8eb04c5",
            "952519a5da7a4b0990302fdb2b3fae48",
            "d0a2c8bdddea4a3bace86ee3d9954db9",
            "57d22ab1f06e4867ba6062545942d20b",
            "df9acc749ab74395a2151fc35e9701d9",
            "7b1ec93687114f61986a71e96e7b6018",
            "368df16f89164a148af613e70e462ee0",
            "4f01c09cdf2b41ceb0eecd497cc73c4c",
            "44878514ba334a3a93a975ea14791a25",
            "471bad1056eb4141bb31430966bf5f66",
            "fcc2b49aa4844346a5dd7c546e8c563b",
            "4451e22d60644dce9c019e96bbbfccb6",
            "4b1d78ac24c14c1a8dc8231f93ae4a8c",
            "35b82c667c044840b2309c0a26ad31db",
            "73cb069b8d7f4b6192dc42cd56543549",
            "5636dd9f0efb4b12bb72de666349354e",
            "3c0bdbd61f5a4c39bcb3c1c98cb89862",
            "4469e1525c854013951d595361bbbeb4",
            "aaa5736e8f4d45989fba2c1b3912a73b",
            "09dd86ac054543189fe41560634f0aa0",
            "d6ff246d12a74462b02ca2411545186a",
            "f6a8822679e242dbbf702cf656da5c08",
            "3abf2bad297f4f1181666e85b132d647",
            "f5831922d3b44d089dcf1ad309ce6ec6",
            "3b1dfe74afe44522bd3203d7d64ba7d0",
            "7540f66c563247bab9dc6fcb5ea1f63f",
            "a5feacab0e4d464abe9bb9b24c28df9f",
            "b7b07492864846c98d5ea1acfc53b80b",
            "9bf25e6e30fc467983f75c17ffb8d1c4",
            "ba83e3477ec54676882c89c8b1643b81",
            "414f1c09f3ff4b0dba85e9ea5964d472",
            "eaf3c419d321423e9c590cad0b3a0bd7",
            "1e7b349ffa00465c8a926bb35c2d4b43",
            "d5b88091e1434914bcf9d5ea0a60d2c1",
            "80dded53f6904420856932aa5c3d67df",
            "236c663940c746b398bcf65f468ccafd",
            "73436cebadbc410c89f439867aec8ac3",
            "fc1a4cce1d1f4533a411ac25ada85911",
            "2cf70958a8b340e18638d36c829fb8d0",
            "69627007c3f74a1e9d13a89a3b84c875",
            "bb985ad4b5874b059bad4113e521ae5b",
            "2c04957066c84e039d2f677f2f2faf20",
            "100de1b1b624447c86bff44f3fd003a8",
            "9a0957e648ec44d7bf832d91e0f570a9",
            "9d43d1ef440144749d315f088292b2bc",
            "9ed4539495d648599577aef2c89f8cc5",
            "81aedc628f7e447e97639be1ed7a7600",
            "e7be3ab5aaa542edb6fd6b27c90eda86",
            "d9240583caa54fb3bacd54e70698002e",
            "ae8c29d9f8e14243a5b75fac40d4ba5c",
            "49f6d0bb15fa4a668774ffa055e50212",
            "46b5e079fc0f4f7da3c790545e182911",
            "f5aea561e5c4490cbd6acd8572374b91",
            "3e1ad9c36d7f437f9de8c4cc24a35acc",
            "19953a0701e04018901172a8ac8f1f74",
            "f02c96a58ff24e4aaf53896cecbb636b",
            "40a267aa61244862bd025e16f677340f",
            "d9cc7d8d665a4dc3a57ad23998176e31",
            "81ae0c98385141db8b24b0fd2bc2bfb9",
            "80c14c1d7b2a4a779fc82fc769b4e3d9",
            "98c9b9894b3f4fdfa3b595a6409f1a99",
            "09eb393869f44638820668c1e6afa0c5",
            "821593c71baa40ada2a60076bab4c49e",
            "433823f803694ecdaeb9cd7d518337ab",
            "04a845ed5b5e48e09153aecb5b69a423",
            "f347682067664249be0ec95de9531281",
            "028db5205feb4662afbe8715aa736d45",
            "14fcf9897d3249b2a2460ccaecceb171",
            "0bc948ab47d049828585a9b0838d11c6",
            "0d858bf031394fe195f1efcfa452811f",
            "cdd2e34e41ac4d498d8cabf0fe7e83b5",
            "2083de84334043c28df4c46f090e9d32",
            "b597900edcd846b29007fb20336188d1",
            "9e7f5894ea24499a9c2920269773d4c8",
            "f7a9da0fab9c4d2f9a72a67cb52d4b10",
            "78c59a399cbb4bb3a925f39de2307164",
            "1b2f01a1bb414a93aabfd4037d2e4b9d",
            "1c39f1687d2646cd9138836d8d4a4bb8",
            "a46f40ba8c2c4b0189c575fa37c3d4af",
            "89d787755178417ea453df9522070f6c",
            "5c0af98aead145ed8a1291b37aa652dd",
            "9b92d2fcadcc461c97bdf7503b15aeaa",
            "a9db48255fd94bc3914da21b9b46830a",
            "61f0b3aa5d54457f831971d4b22ac89a",
            "4401d1ac6d514db29f8185b7847460be",
            "d5856ecc4c3044a5b110cae7307f59c0",
            "08e73443a6bd418f89dd55cd471cd5e6",
            "478c16e33abb433686247463d0593e37",
            "efaa73b8e502476da731c52911de7071",
            "c184ee9490b9463686ae254e9226320c",
            "bf49087893ec4765a6fdd741ce28cab1",
            "45a81f8ea4db40ff81feb049c4d2fb49",
            "b64e0a67dff744e1910815aabe9fa2b6",
            "18e87fbf48aa47f09f2f33dd1c8926d6",
            "a414c0e402324f2f8cbc7c3b3dcc583c",
            "dd4b59b0d16c40e3bdbd593bb4b435c0",
            "a86942582b394d59839ba1a98a555df0",
            "b09ff3b4da014b18954f7b7479f1cea2",
            "2c93846df6e84c8eb012805567241ecf",
            "623bd3aaff2242c1b3f78833551687ef",
            "26900818d28041779084ed338829bdca",
            "b5ec61bd8bae450183c6c8ec18fd2485",
            "815c86afe22f406da5de61665f6a1b8d",
            "866e162ae2974a40a4d4e2171ab1e567",
            "50e6b54baf574ddda67f06c6bac48669",
            "21b1299cc0674afc8d178d015f293227",
            "6c6707c8d0354273bd70310c09696fc5",
            "aba9e0aafa3e4afaa9407db37b6ef14f",
            "d0edaad9555340359e3da02f572957e3",
            "fbbd37d7bc534200b7f365dc34945b8a",
            "5388e5a0fb66419d83ebca07402b00cf",
            "1b6066f9207b446bb56a8d12d81b4412",
            "86be7ac4aa1e470597117db5be1488a7",
            "a29698f3af02473ca160f958d5e2f194",
            "3ca4a114c3624293b143b3be17904160",
            "169699dc147c40ae8897827b8ff8396f",
            "41038a3af9d2450dacfb3f798e6e064e",
            "0be180e0f201485aa2fede59f29183eb",
            "35bb50a2bcbe4a438b4cede9f38f4c84",
            "07a8eaa4554d40ff88656df53e086151",
            "d0a16534deaa42a69c65d26164adfb06",
            "a720e332bef043d89df077bcd5239666",
            "1876caddcaf44f8ba8e32f5e9e01f1f7",
            "56ffabb591b64035984d84652a653a04",
            "c666e6de0e1f4f9089f773013e0bea58",
            "7e1bef8bdc504bb984a0b284cbb7ca6c",
            "3716d25c825441d297584bce81f87c14",
            "84adf2edc2284df29fd1481fb0116cdc",
            "5ea30d9c762a4e33b34cc4ddab79d82a",
            "10fe4b63290f401bbcec2e62c501a4f1",
            "cab48c43e69b486dbca9a0a0fe4915db",
            "2742de2490f540d0a1372049a90c556e",
            "53e45b921c4e4d42b295f5a4e2e62bfd",
            "aa88b07f14074a8c811b3f1248a8df85",
            "faa38160cbc4489aa3e0d56f2ee1076b",
            "0883fc1973c34915b78c5c3e070f3334",
            "bc81be3fe3394437923e798708bf879c",
            "0e123573fdc54208beac2a0088fce9a5",
            "a861a71c07ea405fb3a2fa8aaebb4224",
            "b621fdb300654494bf3d9b2789731e57",
            "237d074578304b068f203e73e8c59768",
            "0e15086eba4d4260ab01bdc6b71dbc04",
            "c3e761545b6643c8842c384352b15990",
            "1baf11c02c0845139e854856ba412f6f",
            "8c785e0e64b1412e88309b32ef91aaa7",
            "a164038fc7d74a8190e1915c85cde879",
            "fd7af4c3da684580ba5fc176de3bb8d0",
            "7a2fb63e1b3a4885ae9b14df49d16d02",
            "1ae660a9c9004a34a15ce57e71a2a7fb",
            "40894aea6cfc4277b8df56eb34e87ad5",
            "dce22d99b1494d0ea54660057a939e0f",
            "5ab99888482d46b894f4948e8264129c",
            "85647ed348ed474b85b46726e39e008c",
            "89bfb09d22ca47bb9cbe283aad022e72",
            "952f104cd8044cd4a63855f535b02f75",
            "88fc8825d8594b7daa2f9e160414dcdd",
            "976de6aa4aa941f4a119b6838985b005",
            "930d33901f9241f4aced96ad18f93951",
            "7fb6acfc7f914c6da9357ecd772f8f1e",
            "009960cfbaf4495fa58a1b81c9331cfe",
            "da8d1acdd9344d3296aa27f4f8f7c5cd",
            "d800ff4f61d64782beb23e8d8ed86aac",
            "ca05fcbac83542ba91670c79e776415b",
            "f0ca0ec1741d4960b7f4af70240ce8aa",
            "a8cceee4de0e43adae43bcfbe61da617",
            "fe5e7613540a422a80299210301737d9",
            "8b7aae25a7cd4eb298e8c443e3288d0e",
            "a47886060888464e84c522bba12de1a4",
            "bca052fffaa54599a770394591fc48ff",
            "fa9324fd5b05484695e75478b80ce63d",
            "def9d0abd3434ddf97eaf0d744c0fcfe",
            "8eae543a4a604d199c01b9da973b65bc",
            "75062f3629184232a88f014cf2f4bfbc",
            "3faf494cf36949358f791af3105d2298"
          ]
        },
        "id": "3v3K2uBmIiuY",
        "outputId": "c773d123-0a14-435a-85e6-0e6c83a6230b"
      },
      "execution_count": null,
      "outputs": [
        {
          "data": {
            "application/vnd.jupyter.widget-view+json": {
              "model_id": "6995d2ae877f4e6abf065a4074f586ae",
              "version_major": 2,
              "version_minor": 0
            },
            "text/plain": [
              "  0%|          | 0/50 [00:00<?, ?it/s]"
            ]
          },
          "metadata": {},
          "output_type": "display_data"
        },
        {
          "data": {
            "application/vnd.jupyter.widget-view+json": {
              "model_id": "f91da3069a9e449484ac9ececc001498",
              "version_major": 2,
              "version_minor": 0
            },
            "text/plain": [
              "  0%|          | 0/50 [00:00<?, ?it/s]"
            ]
          },
          "metadata": {},
          "output_type": "display_data"
        },
        {
          "data": {
            "application/vnd.jupyter.widget-view+json": {
              "model_id": "d2276352884348c7a5a248752634d60c",
              "version_major": 2,
              "version_minor": 0
            },
            "text/plain": [
              "  0%|          | 0/50 [00:00<?, ?it/s]"
            ]
          },
          "metadata": {},
          "output_type": "display_data"
        },
        {
          "data": {
            "application/vnd.jupyter.widget-view+json": {
              "model_id": "b5df6ccf535a48ce897dd16da9811f4b",
              "version_major": 2,
              "version_minor": 0
            },
            "text/plain": [
              "  0%|          | 0/50 [00:00<?, ?it/s]"
            ]
          },
          "metadata": {},
          "output_type": "display_data"
        },
        {
          "data": {
            "application/vnd.jupyter.widget-view+json": {
              "model_id": "2b2a86770ded42dc980e9724e038a136",
              "version_major": 2,
              "version_minor": 0
            },
            "text/plain": [
              "  0%|          | 0/50 [00:00<?, ?it/s]"
            ]
          },
          "metadata": {},
          "output_type": "display_data"
        },
        {
          "data": {
            "application/vnd.jupyter.widget-view+json": {
              "model_id": "53d65ce602494791b85015504b96bb33",
              "version_major": 2,
              "version_minor": 0
            },
            "text/plain": [
              "  0%|          | 0/50 [00:00<?, ?it/s]"
            ]
          },
          "metadata": {},
          "output_type": "display_data"
        },
        {
          "data": {
            "application/vnd.jupyter.widget-view+json": {
              "model_id": "17e15d6372244adaa0a3ad508097b17e",
              "version_major": 2,
              "version_minor": 0
            },
            "text/plain": [
              "  0%|          | 0/50 [00:00<?, ?it/s]"
            ]
          },
          "metadata": {},
          "output_type": "display_data"
        },
        {
          "data": {
            "application/vnd.jupyter.widget-view+json": {
              "model_id": "d2b42fe60b0f42afbf542bfda18069aa",
              "version_major": 2,
              "version_minor": 0
            },
            "text/plain": [
              "  0%|          | 0/50 [00:00<?, ?it/s]"
            ]
          },
          "metadata": {},
          "output_type": "display_data"
        },
        {
          "data": {
            "application/vnd.jupyter.widget-view+json": {
              "model_id": "e509d38787f9483484f17325db388f0a",
              "version_major": 2,
              "version_minor": 0
            },
            "text/plain": [
              "  0%|          | 0/50 [00:00<?, ?it/s]"
            ]
          },
          "metadata": {},
          "output_type": "display_data"
        },
        {
          "data": {
            "application/vnd.jupyter.widget-view+json": {
              "model_id": "86414060cfec44ff9f6d4279715f51b0",
              "version_major": 2,
              "version_minor": 0
            },
            "text/plain": [
              "  0%|          | 0/50 [00:00<?, ?it/s]"
            ]
          },
          "metadata": {},
          "output_type": "display_data"
        },
        {
          "data": {
            "application/vnd.jupyter.widget-view+json": {
              "model_id": "b00942803e784d4aa24e311472fa75a0",
              "version_major": 2,
              "version_minor": 0
            },
            "text/plain": [
              "  0%|          | 0/50 [00:00<?, ?it/s]"
            ]
          },
          "metadata": {},
          "output_type": "display_data"
        },
        {
          "data": {
            "application/vnd.jupyter.widget-view+json": {
              "model_id": "591352babd19447093aad62482c6df64",
              "version_major": 2,
              "version_minor": 0
            },
            "text/plain": [
              "  0%|          | 0/50 [00:00<?, ?it/s]"
            ]
          },
          "metadata": {},
          "output_type": "display_data"
        },
        {
          "data": {
            "application/vnd.jupyter.widget-view+json": {
              "model_id": "1d1ab9f721294dec9d6cd936c1716ae8",
              "version_major": 2,
              "version_minor": 0
            },
            "text/plain": [
              "  0%|          | 0/50 [00:00<?, ?it/s]"
            ]
          },
          "metadata": {},
          "output_type": "display_data"
        },
        {
          "data": {
            "application/vnd.jupyter.widget-view+json": {
              "model_id": "1e0e79b1019949efa3b79d37e45723d5",
              "version_major": 2,
              "version_minor": 0
            },
            "text/plain": [
              "  0%|          | 0/50 [00:00<?, ?it/s]"
            ]
          },
          "metadata": {},
          "output_type": "display_data"
        },
        {
          "data": {
            "application/vnd.jupyter.widget-view+json": {
              "model_id": "d9e6a676917d43ae946b07d78fabaa45",
              "version_major": 2,
              "version_minor": 0
            },
            "text/plain": [
              "  0%|          | 0/50 [00:00<?, ?it/s]"
            ]
          },
          "metadata": {},
          "output_type": "display_data"
        },
        {
          "data": {
            "application/vnd.jupyter.widget-view+json": {
              "model_id": "3af03dd633bf425d84e1b0338880b35c",
              "version_major": 2,
              "version_minor": 0
            },
            "text/plain": [
              "  0%|          | 0/50 [00:00<?, ?it/s]"
            ]
          },
          "metadata": {},
          "output_type": "display_data"
        },
        {
          "data": {
            "application/vnd.jupyter.widget-view+json": {
              "model_id": "ac74ff14de8848aebe27fa2b96304fde",
              "version_major": 2,
              "version_minor": 0
            },
            "text/plain": [
              "  0%|          | 0/50 [00:00<?, ?it/s]"
            ]
          },
          "metadata": {},
          "output_type": "display_data"
        },
        {
          "data": {
            "application/vnd.jupyter.widget-view+json": {
              "model_id": "30a720b716514818ab6e66dfb219c911",
              "version_major": 2,
              "version_minor": 0
            },
            "text/plain": [
              "  0%|          | 0/50 [00:00<?, ?it/s]"
            ]
          },
          "metadata": {},
          "output_type": "display_data"
        },
        {
          "data": {
            "application/vnd.jupyter.widget-view+json": {
              "model_id": "3ca6daa15dc149d2a339284969a4bd8b",
              "version_major": 2,
              "version_minor": 0
            },
            "text/plain": [
              "  0%|          | 0/50 [00:00<?, ?it/s]"
            ]
          },
          "metadata": {},
          "output_type": "display_data"
        },
        {
          "data": {
            "application/vnd.jupyter.widget-view+json": {
              "model_id": "b9662ac5e66144dc906ce4306f05efc6",
              "version_major": 2,
              "version_minor": 0
            },
            "text/plain": [
              "  0%|          | 0/50 [00:00<?, ?it/s]"
            ]
          },
          "metadata": {},
          "output_type": "display_data"
        },
        {
          "data": {
            "application/vnd.jupyter.widget-view+json": {
              "model_id": "df4f113b2cd743aa9fdd90a1a5746c3e",
              "version_major": 2,
              "version_minor": 0
            },
            "text/plain": [
              "  0%|          | 0/50 [00:00<?, ?it/s]"
            ]
          },
          "metadata": {},
          "output_type": "display_data"
        },
        {
          "data": {
            "application/vnd.jupyter.widget-view+json": {
              "model_id": "6c41e99e787b4eb2b8bd099a1ae09c1a",
              "version_major": 2,
              "version_minor": 0
            },
            "text/plain": [
              "  0%|          | 0/50 [00:00<?, ?it/s]"
            ]
          },
          "metadata": {},
          "output_type": "display_data"
        },
        {
          "data": {
            "application/vnd.jupyter.widget-view+json": {
              "model_id": "a2e99ac698124e159878cd45b86d98c9",
              "version_major": 2,
              "version_minor": 0
            },
            "text/plain": [
              "  0%|          | 0/50 [00:00<?, ?it/s]"
            ]
          },
          "metadata": {},
          "output_type": "display_data"
        },
        {
          "data": {
            "application/vnd.jupyter.widget-view+json": {
              "model_id": "bdd67a87049d44d6babe7d42d722537b",
              "version_major": 2,
              "version_minor": 0
            },
            "text/plain": [
              "  0%|          | 0/50 [00:00<?, ?it/s]"
            ]
          },
          "metadata": {},
          "output_type": "display_data"
        },
        {
          "data": {
            "application/vnd.jupyter.widget-view+json": {
              "model_id": "8cbf743faeb149ec86a2a50c383ef1a8",
              "version_major": 2,
              "version_minor": 0
            },
            "text/plain": [
              "  0%|          | 0/50 [00:00<?, ?it/s]"
            ]
          },
          "metadata": {},
          "output_type": "display_data"
        },
        {
          "data": {
            "application/vnd.jupyter.widget-view+json": {
              "model_id": "d50f737092e94e4cbd86dccd13e7c45c",
              "version_major": 2,
              "version_minor": 0
            },
            "text/plain": [
              "  0%|          | 0/50 [00:00<?, ?it/s]"
            ]
          },
          "metadata": {},
          "output_type": "display_data"
        },
        {
          "data": {
            "application/vnd.jupyter.widget-view+json": {
              "model_id": "a7276277b3394f248c5916c0100b150b",
              "version_major": 2,
              "version_minor": 0
            },
            "text/plain": [
              "  0%|          | 0/50 [00:00<?, ?it/s]"
            ]
          },
          "metadata": {},
          "output_type": "display_data"
        },
        {
          "data": {
            "application/vnd.jupyter.widget-view+json": {
              "model_id": "3aa8d13f8de04c3db827dcb597e4c87e",
              "version_major": 2,
              "version_minor": 0
            },
            "text/plain": [
              "  0%|          | 0/50 [00:00<?, ?it/s]"
            ]
          },
          "metadata": {},
          "output_type": "display_data"
        },
        {
          "data": {
            "application/vnd.jupyter.widget-view+json": {
              "model_id": "5ded7036ebf249d2afff5628fc1c3e09",
              "version_major": 2,
              "version_minor": 0
            },
            "text/plain": [
              "  0%|          | 0/50 [00:00<?, ?it/s]"
            ]
          },
          "metadata": {},
          "output_type": "display_data"
        },
        {
          "data": {
            "application/vnd.jupyter.widget-view+json": {
              "model_id": "162511c42a19483883106392054c3229",
              "version_major": 2,
              "version_minor": 0
            },
            "text/plain": [
              "  0%|          | 0/50 [00:00<?, ?it/s]"
            ]
          },
          "metadata": {},
          "output_type": "display_data"
        },
        {
          "output_type": "display_data",
          "data": {
            "text/plain": [
              "  0%|          | 0/50 [00:00<?, ?it/s]"
            ],
            "application/vnd.jupyter.widget-view+json": {
              "version_major": 2,
              "version_minor": 0,
              "model_id": "8a5b33ff8b83457b8f857f390cbc4447"
            }
          },
          "metadata": {}
        },
        {
          "output_type": "display_data",
          "data": {
            "text/plain": [
              "  0%|          | 0/50 [00:00<?, ?it/s]"
            ],
            "application/vnd.jupyter.widget-view+json": {
              "version_major": 2,
              "version_minor": 0,
              "model_id": "893aa35422254aa39df6e4dd704dc91a"
            }
          },
          "metadata": {}
        },
        {
          "output_type": "display_data",
          "data": {
            "text/plain": [
              "  0%|          | 0/50 [00:00<?, ?it/s]"
            ],
            "application/vnd.jupyter.widget-view+json": {
              "version_major": 2,
              "version_minor": 0,
              "model_id": "3c4b9ba1dbe84d72be49f1cd518d35b7"
            }
          },
          "metadata": {}
        },
        {
          "output_type": "display_data",
          "data": {
            "text/plain": [
              "  0%|          | 0/50 [00:00<?, ?it/s]"
            ],
            "application/vnd.jupyter.widget-view+json": {
              "version_major": 2,
              "version_minor": 0,
              "model_id": "44809df9c5fd4cc9bdfc47a500d40acf"
            }
          },
          "metadata": {}
        },
        {
          "output_type": "display_data",
          "data": {
            "text/plain": [
              "  0%|          | 0/50 [00:00<?, ?it/s]"
            ],
            "application/vnd.jupyter.widget-view+json": {
              "version_major": 2,
              "version_minor": 0,
              "model_id": "aa24562449484559998c0cc606c5eaa9"
            }
          },
          "metadata": {}
        },
        {
          "output_type": "display_data",
          "data": {
            "text/plain": [
              "  0%|          | 0/50 [00:00<?, ?it/s]"
            ],
            "application/vnd.jupyter.widget-view+json": {
              "version_major": 2,
              "version_minor": 0,
              "model_id": "471bad1056eb4141bb31430966bf5f66"
            }
          },
          "metadata": {}
        },
        {
          "output_type": "display_data",
          "data": {
            "text/plain": [
              "  0%|          | 0/50 [00:00<?, ?it/s]"
            ],
            "application/vnd.jupyter.widget-view+json": {
              "version_major": 2,
              "version_minor": 0,
              "model_id": "d6ff246d12a74462b02ca2411545186a"
            }
          },
          "metadata": {}
        },
        {
          "output_type": "display_data",
          "data": {
            "text/plain": [
              "  0%|          | 0/50 [00:00<?, ?it/s]"
            ],
            "application/vnd.jupyter.widget-view+json": {
              "version_major": 2,
              "version_minor": 0,
              "model_id": "eaf3c419d321423e9c590cad0b3a0bd7"
            }
          },
          "metadata": {}
        },
        {
          "output_type": "display_data",
          "data": {
            "text/plain": [
              "  0%|          | 0/50 [00:00<?, ?it/s]"
            ],
            "application/vnd.jupyter.widget-view+json": {
              "version_major": 2,
              "version_minor": 0,
              "model_id": "100de1b1b624447c86bff44f3fd003a8"
            }
          },
          "metadata": {}
        },
        {
          "output_type": "display_data",
          "data": {
            "text/plain": [
              "  0%|          | 0/50 [00:00<?, ?it/s]"
            ],
            "application/vnd.jupyter.widget-view+json": {
              "version_major": 2,
              "version_minor": 0,
              "model_id": "3e1ad9c36d7f437f9de8c4cc24a35acc"
            }
          },
          "metadata": {}
        },
        {
          "output_type": "display_data",
          "data": {
            "text/plain": [
              "  0%|          | 0/50 [00:00<?, ?it/s]"
            ],
            "application/vnd.jupyter.widget-view+json": {
              "version_major": 2,
              "version_minor": 0,
              "model_id": "04a845ed5b5e48e09153aecb5b69a423"
            }
          },
          "metadata": {}
        },
        {
          "output_type": "display_data",
          "data": {
            "text/plain": [
              "  0%|          | 0/50 [00:00<?, ?it/s]"
            ],
            "application/vnd.jupyter.widget-view+json": {
              "version_major": 2,
              "version_minor": 0,
              "model_id": "78c59a399cbb4bb3a925f39de2307164"
            }
          },
          "metadata": {}
        },
        {
          "output_type": "display_data",
          "data": {
            "text/plain": [
              "  0%|          | 0/50 [00:00<?, ?it/s]"
            ],
            "application/vnd.jupyter.widget-view+json": {
              "version_major": 2,
              "version_minor": 0,
              "model_id": "08e73443a6bd418f89dd55cd471cd5e6"
            }
          },
          "metadata": {}
        },
        {
          "output_type": "display_data",
          "data": {
            "text/plain": [
              "  0%|          | 0/50 [00:00<?, ?it/s]"
            ],
            "application/vnd.jupyter.widget-view+json": {
              "version_major": 2,
              "version_minor": 0,
              "model_id": "b09ff3b4da014b18954f7b7479f1cea2"
            }
          },
          "metadata": {}
        },
        {
          "output_type": "display_data",
          "data": {
            "text/plain": [
              "  0%|          | 0/50 [00:00<?, ?it/s]"
            ],
            "application/vnd.jupyter.widget-view+json": {
              "version_major": 2,
              "version_minor": 0,
              "model_id": "d0edaad9555340359e3da02f572957e3"
            }
          },
          "metadata": {}
        },
        {
          "output_type": "display_data",
          "data": {
            "text/plain": [
              "  0%|          | 0/50 [00:00<?, ?it/s]"
            ],
            "application/vnd.jupyter.widget-view+json": {
              "version_major": 2,
              "version_minor": 0,
              "model_id": "07a8eaa4554d40ff88656df53e086151"
            }
          },
          "metadata": {}
        },
        {
          "output_type": "display_data",
          "data": {
            "text/plain": [
              "  0%|          | 0/50 [00:00<?, ?it/s]"
            ],
            "application/vnd.jupyter.widget-view+json": {
              "version_major": 2,
              "version_minor": 0,
              "model_id": "cab48c43e69b486dbca9a0a0fe4915db"
            }
          },
          "metadata": {}
        },
        {
          "output_type": "display_data",
          "data": {
            "text/plain": [
              "  0%|          | 0/50 [00:00<?, ?it/s]"
            ],
            "application/vnd.jupyter.widget-view+json": {
              "version_major": 2,
              "version_minor": 0,
              "model_id": "0e15086eba4d4260ab01bdc6b71dbc04"
            }
          },
          "metadata": {}
        },
        {
          "output_type": "display_data",
          "data": {
            "text/plain": [
              "  0%|          | 0/50 [00:00<?, ?it/s]"
            ],
            "application/vnd.jupyter.widget-view+json": {
              "version_major": 2,
              "version_minor": 0,
              "model_id": "85647ed348ed474b85b46726e39e008c"
            }
          },
          "metadata": {}
        },
        {
          "output_type": "display_data",
          "data": {
            "text/plain": [
              "  0%|          | 0/50 [00:00<?, ?it/s]"
            ],
            "application/vnd.jupyter.widget-view+json": {
              "version_major": 2,
              "version_minor": 0,
              "model_id": "f0ca0ec1741d4960b7f4af70240ce8aa"
            }
          },
          "metadata": {}
        }
      ]
    },
    {
      "cell_type": "code",
      "source": [
        "import imageio"
      ],
      "metadata": {
        "id": "qksMuilmIiyC"
      },
      "execution_count": null,
      "outputs": []
    },
    {
      "cell_type": "code",
      "source": [
        "frames = []\n",
        "for i in range(num_frames):\n",
        "    frame = Image.open(f\"frames1/frame_{i:03d}.png\")\n",
        "    frames.append(frame)"
      ],
      "metadata": {
        "id": "ZMmBb1pnIdt0"
      },
      "execution_count": null,
      "outputs": []
    },
    {
      "cell_type": "code",
      "source": [
        "# Save as a video\n",
        "output_video = \"animation1.mp4\"\n",
        "imageio.mimsave(output_video, frames, fps=10)  # 10 FPS\n",
        "\n",
        "print(f\"Video saved as {output_video}\")"
      ],
      "metadata": {
        "colab": {
          "base_uri": "https://localhost:8080/"
        },
        "id": "Hv3uNfMGIdxZ",
        "outputId": "8fcc53fd-3097-4613-d0ef-c09be8d66c48"
      },
      "execution_count": null,
      "outputs": [
        {
          "output_type": "stream",
          "name": "stdout",
          "text": [
            "Video saved as animation1.mp4\n"
          ]
        }
      ]
    }
  ]
}